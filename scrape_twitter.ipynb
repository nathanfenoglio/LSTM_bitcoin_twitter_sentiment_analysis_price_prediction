{
 "cells": [
  {
   "cell_type": "code",
   "execution_count": null,
   "metadata": {
    "id": "o-cDxeCysgnJ"
   },
   "outputs": [],
   "source": [
    "# think that maybe twitter stopped allowing sntwitter.TwitterSearchScraper to scrape after project completed"
   ]
  },
  {
   "cell_type": "code",
   "execution_count": null,
   "metadata": {
    "colab": {
     "base_uri": "https://localhost:8080/"
    },
    "executionInfo": {
     "elapsed": 8349,
     "status": "ok",
     "timestamp": 1683467186993,
     "user": {
      "displayName": "nathan fenoglio",
      "userId": "13879668938846553689"
     },
     "user_tz": 300
    },
    "id": "L1fxvAKAtXAa",
    "outputId": "f60d4ca9-c4b5-4225-f92f-5f49cee5e476"
   },
   "outputs": [
    {
     "name": "stdout",
     "output_type": "stream",
     "text": [
      "Looking in indexes: https://pypi.org/simple, https://us-python.pkg.dev/colab-wheels/public/simple/\n",
      "Requirement already satisfied: snscrape in /usr/local/lib/python3.10/dist-packages (0.6.2.20230320)\n",
      "Requirement already satisfied: requests[socks] in /usr/local/lib/python3.10/dist-packages (from snscrape) (2.27.1)\n",
      "Requirement already satisfied: filelock in /usr/local/lib/python3.10/dist-packages (from snscrape) (3.12.0)\n",
      "Requirement already satisfied: lxml in /usr/local/lib/python3.10/dist-packages (from snscrape) (4.9.2)\n",
      "Requirement already satisfied: beautifulsoup4 in /usr/local/lib/python3.10/dist-packages (from snscrape) (4.11.2)\n",
      "Requirement already satisfied: soupsieve>1.2 in /usr/local/lib/python3.10/dist-packages (from beautifulsoup4->snscrape) (2.4.1)\n",
      "Requirement already satisfied: charset-normalizer~=2.0.0 in /usr/local/lib/python3.10/dist-packages (from requests[socks]->snscrape) (2.0.12)\n",
      "Requirement already satisfied: urllib3<1.27,>=1.21.1 in /usr/local/lib/python3.10/dist-packages (from requests[socks]->snscrape) (1.26.15)\n",
      "Requirement already satisfied: certifi>=2017.4.17 in /usr/local/lib/python3.10/dist-packages (from requests[socks]->snscrape) (2022.12.7)\n",
      "Requirement already satisfied: idna<4,>=2.5 in /usr/local/lib/python3.10/dist-packages (from requests[socks]->snscrape) (3.4)\n",
      "Requirement already satisfied: PySocks!=1.5.7,>=1.5.6 in /usr/local/lib/python3.10/dist-packages (from requests[socks]->snscrape) (1.7.1)\n"
     ]
    }
   ],
   "source": [
    "!pip install snscrape"
   ]
  },
  {
   "cell_type": "code",
   "execution_count": null,
   "metadata": {
    "id": "7t9edG9asmAZ"
   },
   "outputs": [],
   "source": [
    "import pandas as pd\n",
    "import snscrape.modules.twitter as sntwitter"
   ]
  },
  {
   "cell_type": "code",
   "execution_count": null,
   "metadata": {
    "id": "P0Q5jDtFHLd8"
   },
   "outputs": [],
   "source": [
    "import datetime # for datetime operations"
   ]
  },
  {
   "cell_type": "code",
   "execution_count": null,
   "metadata": {
    "colab": {
     "base_uri": "https://localhost:8080/"
    },
    "executionInfo": {
     "elapsed": 237,
     "status": "ok",
     "timestamp": 1683467189349,
     "user": {
      "displayName": "nathan fenoglio",
      "userId": "13879668938846553689"
     },
     "user_tz": 300
    },
    "id": "9oMzEw9JaD5e",
    "outputId": "9f4e0067-b298-4cbc-8be6-4c7e0aa118fa"
   },
   "outputs": [
    {
     "name": "stderr",
     "output_type": "stream",
     "text": [
      "[nltk_data] Downloading package stopwords to /root/nltk_data...\n",
      "[nltk_data]   Package stopwords is already up-to-date!\n"
     ]
    }
   ],
   "source": [
    "import re\n",
    "import nltk # for stop words\n",
    "nltk.download('stopwords')\n",
    "from nltk.corpus import stopwords\n",
    "from nltk.tokenize import word_tokenize"
   ]
  },
  {
   "cell_type": "markdown",
   "metadata": {
    "id": "OOLoMMFMpvNb"
   },
   "source": [
    "the attributes that you get back from TwitterHashtagScraper:<br>\n",
    "![image.png](data:image/png;base64,iVBORw0KGgoAAAANSUhEUgAAAi4AAAElCAYAAADDZWmBAAAAAXNSR0IArs4c6QAAAARnQU1BAACxjwv8YQUAAAAJcEhZcwAADsMAAA7DAcdvqGQAAF61SURBVHhe7b1/aBXnvv/72ff8ce7CRUxC66YuTfQY2ObES0IadH/39+as0rOr29xrtKkFIdBuaDgiF6EmtlBo69e2IKiJBf8QIYW2sECojb9AqWV7TQP77EoaEjAk5URq1JWy2x6NuSnrz32fz/M8M/PMrFkzs1ZWYia+X2WaNc/MPL9nPp/n8/nM+Js/bt/7DwIAAAAAiAH/m/4LAAAAALDsgeICAAAAgNgAxQUAAAAAsQGKCwAAAABiAxQXAAAAAMQGKC4AAAAAiA1QXAAAAAAQG6C4AAAAACA2QHEBAAAAQGyA4gIAAACA2ADFBQAAAACxAYoLAAAAAGIDFBcAAAAAxAYoLgAAAACIDVBcAAAAABAboLgAAAAAIDZAcQEAAABAbIDiAgAAAIDYAMUFAAAAALEBigsAAAAAYgMUFwAAAADEBiguAAAAAIgNUFwAAAAAEBuguAAAAAAgNkBxAQAAAEBsgOICAAAAgNgAxQUAAAAAseGf/mXTv/4v/RuUQPvhY/Qff/hnuv7X/9IpywtZv53r6Jf/d4x+1GlPikh1aXmdPnprN/3Lfw/SyIxOWyz2HKTe/X+iGrMsWf4++r/+9EfakvgLPft/L4P+k/V8mXb86X+66xrEUvYjAAAsIWWxuDR3vU+9p46J7X3qatGJUek4Qhe++oK+/upTOtGh08rFgvJupK4PuU2FtoPUrs8EK4U26u7cTA8H36GeQ+9Q30Wd/CRhBSRdRRMZrtMH1D+s0wEA4CmlDIpLIzXXJvTvBG1oatS/IzJwlF4+e5vmaRU1dR6hvTo5D0sJ6T+gE/zZe/xToah8QZ/0iJ2oefsyRv3vKQHG22BWJGWH7P2eQ6fpsjpxWXP5pKjre5/RiN5/kjzJukjl+sPXqVnvSy6eFuNoKAMtz1I15Wjugd4XPPH+W1ch7qpH9FOQwsIWmSVTpIVyJxT37j1690mxpG0GACwnyqC4jNHIdE7/ztHd0TH9uwhYwbguNIPkFtofophQ1ZriFJBi8gYAAADAsuY3f9y+9x/694qALS77G1fRveuv0hu9OrEQbIbXroEwtwDHZ6RpiHpOXtUpCis9M9tCnQ2W5WmGBj0WGV7xO8eJsoFl8qq2heYybteAtw5Ryvart0xL6R0+f5AonSb7OlnXymF3W2Vf1dJds066/+xWsUXK0z8mfnVx90uOJganaUO6mHLYpbePNkyfo1uV+5x2zU9SRlpK1PH6pE5nrGO8atftfuAZH6sfKbTOnrG08pR9utaohx88zq1kDwW332i3e5wEPnnlnWONvz1ew1TR6ZSRGz9H7/abiwtPHYLqK9sm2mSQHTxHc8+r/nfyVXlWm2XJ+lTQLWtuhs6dwvUq2Ga9BwBY2cTgraID9ImMU9Hbl/kuH8s9xBsrLUtOqpU66JJ2IZ2jifm1lD7cpg9qQVc7TRnLzZSZpOp0mcztIWV7kQ/91UII2HWZo60eYRQJWzDqfLjs1a3UG1C2F6UAPBJCx8pDCNm0IcyYiOUkGvZR3ZR1zhBlk5upo4vdlsrllxnPKeHHx30E80j/B3JcclJ54Dz8BWG0sRRjUHdHHS+kBHC7tHBXdRbb4COq73Tykm6qQY6sZcHsn1feOa56J0R+m2jKzn9G9NNuIw5NKQekY3p4G3y8mTq9LjUL6VoTfSt+srLG5/ddVBbXRG2Tc82eTVLhMNOam2opMT9H0gsXOqbB9QpuMwBgpRMDxeUMvbHjVXppxw26p1NMTAvLS+K8s2O/6iMRGP6M3pUPX71fKkIgDtirTSEovxMP1dQm7X9voxcaiCYuGUJHlHtLPP1TddGFfEECy/YgBMbWlBDMnrq8K4VAcbS/sJlo/JJhEQopOw/ul4QQgKbQuUp9UnlwiFyOWLE743iVbgpFxSVMy0LUsRR9fLOw5YnhdiVEnV3WD6EYcCxVWeaFxtW/F78Riq0Th9YsNJiUq9+EUnBT9H+ylpqLCLIfGZ0W11TQOr3fXreWctkZV9q6ygTlpkdlv4WNabnqBQBYmcRAcQliF23btEoI79t0LcwttJg8/jlvJWwjAz555et+K8lt6l4AQWV74UDP+WkasQVGqTTSmtXKymG2yetGCET2ywxNBSqN0cvJzbIdYJGJPJYhwbS6XdmpfOXm8pQQ4KufLZPC5Q409sLKBFvszLb0mu6bqAz/TA9pLdVJSxG3LUd3b35Dd+ettDaqEwqzin8LH9Oy1QsAsCKJueKyjqrN2IVli2XS9mwB8SBxwHIXuLfym+2XqpxorKyx5JiXvLYU/dr1VZqyLEUtTbSBWDlWLiSZxq4jj8IcNqblqRcAYCUSc8UlBrhWo8WQoArLzi5RK9UF42Nub36mSv8y8K765Wu5FmP00+NyuDR8+mVRyikTJY+ll8LtYjdLUVa0BfBgNlc2d5plKWpvqiXSLiHpQuI0Mb8sN1GUMS1nvQAAK4+YKy5naPy++JPcSNv4A3MdR6izmOBcGSC52N+k0KvRtPubE81dBwM+1qeved4Jkmzu2u1+M6YUdIxD/W4j+FL0QYfrbRorZmEzvWD3Sxt1e9wzUlClWt19J/LqlgGxEbBiQ1z9sgjlaEZ+eSTmiRNzURqljKU/MmZDtOsjsx17DlKaY5BC4mPyeDBHOaqiNUXWwRpnFcRsIcYgMMA6S3PzRNXPePr/4h0ZEJ1uIOeTCKzoybQEPfzFieUJG9NI9fJpMwdO49suAKx8lr/iYn/99kWq4X3+Hgvv62+y9HVx0O4qatov0vZvpKnr/MG55QW/BTGYXUtpw2ffWXkn0Ox9+aR6M6ZTn89vDsmP4C2IMep/7xxNkJNv726iAW9wrlAqBsZzQkBb9d1EU56gWfmGibjOOUdsnRU0ZQabhpDfL4tTjkQqbbqsQm/NRKCUsfSFg6JFW8mM9ZCvZpfgDpFKoBV7U4Tg9qsDv4YfqDipQForRsVRPpRSRy6XkE7zxjKFjWmUepXaZgBA7Flx33EBJWB8z+TJxI0AAAAA0UCMCwAAAABiAxQXAAAAAMQGKC4AAAAAiA2IcQEAAABAbIDFBQAAAACxAYoLAAAAAGIDFBcAAAAAxAYoLgAAAACIDVBcAAAAABAboLgAAAAAIDZAcQEAAABAbIDiAgAAAIDYAMUFAAAAALEBigsAAAAAYgMUFwAAAADEBiguK5WW1+mjU+9TV4veBysTOc7HqFds3Xt0WgTaD4trDrfpPQAAiA9l+UcWm7vep86GhPiVo4nMB9Q/rNIj0XGELuzfQkn6lUbP/pneGtDpK5zu/i9o53rx4/4NeqnrjEqMyp6D1Jteq3fyyY2fo3dHm+ijzlq6W+x4gBjRRt2nWokG36G+izopIqy4pGmIek5e1SkAABAPymBxaaTmWlZamARtaGrUvyMycJRePnub5mkVNXUeob06eaXT1/UqXbsvfqx/kT7pUWmRuXiaeg69o7bMpFAXWWHU+2J7t39Mn7gYsLAsbnUfTiN1fXiMPuoqcu4sFqwYnjpI7Xq3rJQz75ZnqVqM/dwDve/L0vYtL2J6P3ydmvX+k2GZzScAQFkpg+IyRiPTOf07R3dHSxCarLxczxIlt9D+/gM6cak4QJ989QV9/eViKE276MSXIu+vPqZunWLS1/U5jc4T1Wz/lE506EQAAAAAFKQsrqJ4w4rLi1Qzf5vOvnKUzuvU8sCKy2vUlMzStR1vUp9OjYI05a+epMx7n9GITvOFYxz8XEJ2+jBVdLZSSidLN5LLIqPcDdZxmg8o08dFlTXcFLLOdkaG21DWZTORWbZOezg5SdWbN5Nls2Py62jiqa9ZjsBxW2qybneI5SLJzLYY583Q4KHTdFn8creBcY6F9dXC8s4nqC15x/zy0n1snmX1bVhdLbzlmOPthq0c+6g+qXcZ7p/vKqgzTa58VZ6PXGlcn62zzri7+yrfBV2wXgFtBgCsDGKjuNgxIZp711+lN3rV773HP6X9javUjmB+7HN6+e0r4pdSSqrHbtPDxi1UI486sTTePC2c6wU9H9PX2x1pY5Yrr6+6TaOPtlCTzse61lsnm4gxLfLBvWDFhR/ghjCSikeVIQTyYyTCy82/hrEEoa0keMuS+5YAU0Juw7QlULz7BdBtMhWg5q6D1Dx6WpahhJ0pfLUwJac9lkB0hJk+57G37m5hG6WvSs87nyhtKTj2Lvz7NkpdpXJQO+0pTyibBZUXn2vy+k2XIxQcRwlynyPrFjCXwuvl32YAwMogFm8VKQWDFY5X6aUdavMqLaxQcPrZsV8p2fiaK24kKZQWksdv0D2OpWlT7iiOM1FpAra46Ly9SgsrI1beeW6dpFBaSCgj4jjHrCQb/126hc6//WeRplxB4hFN13TeUQNxL598h3rsh3/pZAcNAXnxG5qYd+KQmrtaKCVW8aYQunxzknLJWmou5m0kITi2spC1BA3jKUvtr6WtXY2i3N1SAA8UKVTaXxCKmKivKYxG+pXSourAK3NTIRij/ks+7Zk3yxbnfDdDlNoUGHcSua9KyDuPYtqyEALr2kYvNBBNXDLm4PBndCsrTqkr5m2kqzQlrql+Rs+DlibakJyhrCuNY3VmaIr7NnQulateAIC4svwVl44j1CrfvvnW542jXbRt0yqpdFzTisz5t7+VikhNvRErc/+GrehIqtZEimfprmdLS5aGtCJz/m8/yCDiut/vkvsKoZS4lJFKem7ZxKsEB26uq0yIp32rfJXW3jxm9kisqxDXrKW0mc8ptap2UIKXGvZRp1fwRKKR1qwWvT1lCDQTrsP8NI14LQ/Do3RXCL2KdXqfefxz0Qph5L4qIe88imnLQgiqq1QmElTfabRXbG5XVzQezOYoUdukAna5bdk71Dc1Y6c1N9XKNKmkhc2lMtYLABBPYvMdl/mHfhJ4HVW7hGM52UXPVfHfFO3k4F3e5GvbKwt2FdhvKNlbkOuhABzPkJeP5w2n4Z/pof4ZR8rWV7GBXVXe9orNtIZEYGR02rYUtdetVcrnxTuUlWnqrUSXQho6l8pTLwBAPImN4pKsjrjM7FgjVmTl4Ar9+Ij/Gm4evdmupJjjWgkvhAdzkVwY7YdbqVoI/8w4Uf3uYl+ZHaOfHge4AwrVQbomwl4ZDqdsfRWFRW5LJKSSuZbqyvHau20paqO6lHYJSRcSp6WoImmlCcLmUjnrBQCIJctfcRkYoSmOE1m/zeeV4TN0bexXGWeyU8e07P39RvUxu6tRP+r2gB5y/skqHbzr0DeRFf9PUetx0zVUDJbyU7z7iAMUF/t7GGolvJk6XN+7aKPuwC+qZmlO9Jcdn8BoweRVRtoPO98r4YBKDja9JVbNI/3DYrVtlquUkkRlsL1fxpSkWl3f5+DgXPl1YBnnwC4E8xspjdS1m+NihouzirDwpCpaYwjP0vrKB5+88yhnWyL2bT4qNiWVdn9zxu7vAoz8IiZ8soLcywz1yYRUupVSlktIwMqgTJufE3ehJnQuRamXX5s5ABjfdgFgJRADi8sVeusVDnJdRU37tctGbBe0MsFBsBwUW7Ndpe8Xz6XivsAr8s/wB/Acl5CVN/W+aQf7WuV+/VVx31zp69IBwVbdl/w7NQEIAfluRsWdOPECLTR3M8jkroI4E/oa9SE6kfbeOZqgzdRp58Ovt36jhNSeg/LVVSdQ+Cr1Dao8rA/ZWUoJX1dQuPjUt7N2zo4F4YDmwawZH6HeLCnahWArDpyHFpAl9ZUPfnn7ULa2CCL1rQ/5dRD9XXknWHHSQdjyGkPxloqf+Gu6hKy03PSoEWsTMpcEUepVapsBAMsffMcFAAAAALEhNjEuAAAAAABQXAAAAAAQG6C4AAAAACA2QHEBAAAAQGyA4gIAAACA2ADFBQAAAACxAYoLAAAAAGIDFBcAAAAAxAYoLgAAAACIDVBcAAAAABAboLgAAAAAIDZAcQEAAABAbIDiAgAAAIDYAMUFAAAAALEBigsAAAAAYgMUFwAAAADEBiguT5KW1+mjU+9TV4veX1QaqevDY/RRV6PeXwmU2CbZ78eoe4/ef9LsOUi9pw5Su94FoGgwh8BTRFkUl+au98VNc0xsJQjhjiN04asv6OuvPqUTHTptmdDdz/USW/8BnRKd9sPcH4W2pVJWAAAAgJVFGRSXRmquTejfCdrQVOTqd+AovXz2Ns3TKmrqPEJ7dXJBLEWnBGWiWPq6XqVr98WP9S/SJz0qLSqXT75DPYfUlhnPEc1PUkbv9xz6gPqH9YnLGKmQfvg6Nev9WOK3Eh3+jN4V49B3Ue8vIUvap8tkFb4i5tFiACsJACVRBsVljEamhWCW5Oju6Jj+XQSsvFzPEiW30P6yKyS76MSXbDn5mLp1SjH0dX1Oo/NENduXn0UIAAAAeNr4zR+37/2H/h0P2OKyfwsl79+gl7rO6MQgWHF5jZqSWbq2403q06nlgN1B6dWTlHnvMxrRaX7wirOzdjr/PI616Kylu5lhquhspZROzo2fo3f7TQWwjbpPOcel9SakTJX3ZrJsYbnxIbpb20obpo28Pec4+XLsyD6qT+p0xizTe112iHpOXtU7fnjqTzM0eOg0XdZ7sh9piDKzLdTZYOXqPkcSpU0GMl+nUIHO0+53bfnilW+aaHCQKJ1eq07V7SUeO6tOPv0ux9aus+iKwUKWnIA+tcrPzNFWo315eRXR775tl/kb7WZk2VU0YaTJNlUO23mHt7HQ/AyZRxbe8WBC6xU8p/L7O+fKK5/8uqp2qvQN02qu8XGn/SH3pXe8jOMF5yb/jDDO7uvFtXLuijnkvWcAWIHEIzjXjoMRGystOtli7/FP1TG9XTi+y0hnpYX3UrTTOsdl1TlAnxjXLoULyk2C6js30ZTlRhqcoUTDbiMGRj0cSTwsLdfT4OPN1BlketcPvofGNbcq1UPXpP2FCrqlj/ccOkcTJPI93CaOjFH/ex4Xl/VAtoWMcd3qVuqV1/nT3LWJ5uzzRf2zayntrX+qlTrokpPnvDjHzDNim0yku070pxIKfE3QQ12UV3dH5z1E2aToi1PHlKA00jqMQGBbIdX16clMUnW6UNBvQJ9KRPm7iQZ0XnxeKm24EYrsd9+2D4/S3Xm3O7e9jhU1M025fnOzWbkX3sag+RnWZk1J9QqeU+2HhRLyWAh8fTwz/kgf8YPb4D5f9Z1DokHckJfUMVNpCbovC99fAXMzwjhLpYUXTFberJBaCjcATwHLX3ExLSw7XqWXZDyMgTi+k75Ux8TGMSnJxlekW+f8238WacrVI5YtdE2f41hqWGl5kWrmb9NZK+/1L9qKTxjy4eP3IC6S7KAhUC9+I4S288BuFhpMSqy4zBXu5ZuTlEvWUnOBAN/2F8RqzXvNSVYG9I7m8klTkGuX3+pnCytEAs6bxi8ZK1chnL4TD+DUpoK++pH+066V7uUpcX6ygtbpfYkQbAO21SQ/z6htKh0hQOxV7VW6ycLWJy1R26T7p41eaCCauGSM//BndEvI1VRdYSWuMDlXXiOiw7JCmanTCkIp/Z6PGuNEpbVUb6O6VI6yWTMtRRVJy+Ub3sZS5mc+xdYrbE410prVoke1ksN4zzeRbWDFyrRqXDztahNlh13XR2n3otxfQrHZKvrGOybvehQtAFYyy15x2fv7jZSkX2n0agG30MBReuPtK3qH6N7DX8X/V1H1RrUfSM/vqEb8uffXo3Se9wdGaEoIwuSm5vAg4bKRo7kH+qcP6yoT4qElVlzmW0mmGTkP9dDOTrlNy4Xg1ZuVr+kO8EflnWjY565PhNUer9wDz3/8c4ACWFybysb8HBUcmpZnqVpay4x+EJvb/F8Mj+inAoJ1If3uZeSXR4YQFG2Yn6abN6cpZ6Xt2SSE+DSNcF0itLH4+elPUfXSFJ5TStir/goPfuU25KZHA+afWwliora77PfXugpKePoBgKeNZa+41FSv0r8KYQXfqm1/Y9j5Dnt/Wyn/1my3rrfcSssLjnnpsczC9hbkr48Am6TFQ5FjS6w8pUk/Auzjd9eFN3N1acImdfHQNt0NK2Z1aJn5PZsnHqFcFNfvBbh4x7bkNDfVErHAlq4alcYuGrcQD29jWeZnUfWKMKcunpbpmfEqSksFoPxv7wS2e8nuLwCePuIR4xJAdz8rG7/S6FnlBjo7xhaXaJz/+6z8e++6diFZ2yvaArMMeDCbM9wT0cl3V7CpXf8UsHBIeM3joYzRT4/98g6AV8os/MrgUgtr05Iy/DM9NFw5i0sJ/V6QqzSVJap+po2ahX6gXC/KjcFpa1YbbwZGaGOp8zOfIupVxJwa6f9ACP0hl9vNSyltCLtmUe8vHzdc8zNV+hcAK59lr7j0TbCJdhXV/Z7jTnbRic784FyiWfpxgP8eoJ15Fpcr9KOMy6uk57yvM/d+T/fEn5o/RPh+jA/SDBwUJFsGRkanKecJCpUrzoLBsJZPvNUVJNp+2HwDQ5vmzTgTsULs8Jiy884RyFgCT958bXehr9c+mKMcVdEa+0Er6l60iyNam3zJK79cKEHrCqAVNHcdDPy4oF+fRqHofmcKtJ3zSjS0Uj05Lgeul0xLmi6r8DZGmZ9R2xy5XqFzqpG6Dke/L2U8EQdjm/fUnoPuvvYQ1u68NvvcX37jEzrOOgaufrfRvry8RT1OrbSvZAPgsPwtLr1v6oDb16Qrp+7ODR1sq+i7ysG61htD2+jhdU/wrqCv64ZQUFZR037tErLfHDpDb3BALn8/RruaeIsanLskcOBdZpLI5fduobmbASs5NpMPzgiBY51/jOqmPIGs4hz5JoaV526iW15TtnxI6nMsBc0n797OCpryeR1ZIuo/ME5GnMQmmirFVRSlTX7IYFIrTqO87gIOznb1odg6K+8Eu0j8+jQKxfY7U6jt0i1DbpeQTqPsHZdLIrSNUeZn1DZHrVeUObVavRWmjqu3f1zBti6uUh9bZYTCYLchTTRV8HxBWLuj3F9+4xM6zkKJf0/Me35Dych7oJR7CoCYEr/vuAAAAADgqSX2MS4AAAAAeHqA4gIAAACA2ADFBQAAAACxAYoLAAAAAGIDFBcAAAAAxAYoLgAAAACIDVBcAAAAABAboLgAAAAAIDZAcQEAAABAbIDiAgAAAIDYAMUFAAAAALEBigsAAAAAYgMUFwAAAADEBiguAAAAAIgNUFwAAAAAEBuguIBlRiN1fXiMPupq1PtgudJ++Bj1nhLbh69Ts04LZc9Bcc1Bate7TzeY6y5aXqePTr1PXS16PyqYU08dZVFcmrveVw+wUiZdxxG68NUX9PVXn9KJDp0Gli89H4ux4vH6mLp1UmTkA0YLO58ND/D4wPd8evUkZQ69Qz3vfUYjOh0AABabMigujdRcm9C/E7ShqUjhM3CUXj57m+ZpFTV1HqG9OhksU3rfpJeuZ8WPFO3sP6DSonLxNPWwoOMtM0k58d9ERu+L7d3+MX0iWO6sqxT3/OOfAxUWuaApxhoD4scSWzuWdE4tE0sO7qN8yqC4jNHIdE7/ztHd0RKEDysvLAyTW2h/scIQLD1CeTk79ivR+hfpwvFdOhEAAABYfH7zx+17/6F/A7BgeHXQ2fCIBg+dpss6zRf2Z3fW0t3MB9Q/rNMk7PffRxumz9Gtyn2UTunk+UnKeFwSHGNhH5fWG29eBrx6en7Ok0cbdZ9qJRp8h/ouqhR3nkRZ45iq82ay7IuUHaKek1f1jlXvIbpb20r1SX0tiXLToojMHG01rnXlKwgvV/TV4DRtSFt5zKg+5nal18oUO03vSQLrXABXngJX36s+M6pKufFzHmuZ6gvuAxsrD5l3eH8UV29VXsV37jzkXKydduruzdMzpwLnk1XvQaI0943PfLTPMcbA737gcrbOcp9R5Lmu8rFrHj6O1pzJXCLabYyF33WB4814x1P1zU8vuOese/555klom0Secn77PROYpZ1T3vtRtk2OfTHjq+4J79hFr1dAm/Xu08ryD87VMTD2yt6KiTEsM3uPf6rjLvTmstrsohNfGse+NN1RB+gT63w7duML+qRHHw6hu5/Pd2I91L4Zq6PztzdPHI9Rprdc1SY+36i/XXeV74XjR4z8PXnbsUOea2WZH9Mnsq7uPJzyg/psaUg07KO6KcuNNETZ5GbqMGJg5IOFxA1uuZ4GH1F9ZwkxVgb8gLHjNmSeM/qIwBYE+tihczSxupV6D7fpExSJBlGBS+oc5+G0ltK7iQZ0vpnxHKXShgla5F0nHnQqX7GJclNpb1sSVP+8lYcoe17kybFBrIyZaWZ9ItbZhPugN13lcuENPt5MnbbJ/Cr1cRp7C/kBK37nu/jGqP891U75oOV8XA/b8P4ott7hCEEqhMNDITTsPB/rQ4Jo80nUu+6OOu4nPC7eoaw4p26P3heCR7nRzbQ2qhMC8eEvTp9FmetKOFrn6P4IdR+IOdMpOlrPR5l3yt2P4ePN5Qvh+djpm8z4I5l++aTYl/cIKyx8zK208ILAladRX0fgW+cMU4WtlPuxtHPKt20ljK9sJyvPul7sIq9OH6Nu6/zAeoW1+ekl/m8VCUG8v3EV3bv+Kr20Q29dZ/RBFsCvUVMyS9fksRt0z88dVbWNLtR/r46L3Zo/lENQc9kvUs38bTpr1WvHn+mtAX2YFYjtKZof+1weY9dLzfb8AOW6zleIMuo4u9J2GspNsnELkWw313sVNbVZ7RJli3mfscrVbrhO262TouqHn8s8k40b6eHZz2l0XrS7nq+P2GcFGOn/QN3ker9khFB0BP9Vuilu3kRtk3rwiZt9a0o8UMzV0sVvhOAuIcbKIC9u4+Jpuw7tL2wmGr9krATFQ+U78WBLbXIejkx22Ge1KFaTl5wHzog4wfUAHP6M+kzhLx+QCapYp/clZh66bL80oz6R62zTRi+IlWF20L3ivXxSCDzXw3mhBPdH8fWOQMuzVC3KnXug9znPk7oOkeeTqPdN/xW64ipNiVut+hl9TUsTbUjOUNaVxvWYoSlzxR0610W5GfOeEnW/NEm5ZC01hyjq7rEUSicLY7sfo4x3I61ZLVo+y5qqYqT/tOt8L81C20u52iTyvGnW1yrXbJOom4x7K5WlmFPFji+3k1z14nv9ljg/VacUpkWZ608B8VdcNL7KRkcz1SWFsjr2F+qTCWdo/L74s/537jdikrM0JJUdfTxZRTXyQBnwKBsW3fVsh8zS0NtX5P75v/0gA5Trfm/GjKwiuvOlVHbUcXGD/NY4fv8GvdGrfzNVa3QfXKG3uo7Seflb8MMjeW2y2pKEv9LU31S5NP8DfWspU0zUPltkzAdlHusqhFjXFgd785hUS0A+XHlFmvd2nHp488rYfAvKZV7X+Nf7Ef0U8KCX8MrLztvtiilMUL7R62zjJ1Qlngf2gilzvaMgBQZbIERe3lV25PkUPo4PZg2lg/PN3qG+qRk7rbmpVqaZin3oXJ+fphFvucOjdFcoVm7l1oupqGkezInUKlrD8zvSeCtBqsbDsGAEIBcA8j4y+tN0hRQsdyEszZwqanxlO/WcM8p1XFCLNNefAuKvuPS+SdeksrGF9luuDcs6sLGK+NmTbHzNdnvsXK8OuZh/JC0tTF8XWxne1EJ7IQjlIcNvSwmlaruul+3O2UXPVfHfFO206rx/i6yrl4d/1woGBzDveJVe1opOGC73WYG8fYnaZ08ay3Tq2Rb0ZpIQbu9yPtJNwA8RtwLDvmlveeWwLrEroNdlLuYVb3lYrDovNotRb2n+t0zxLCBMBaZM82lkdNq2LLTXraXs1FVlQZNpyrUg0+KEfhswM16llbtwBYbjnrx92XPIL3Zl6SjHnCp+fC1Xk2czrHtxvUefJCvC4qKUDe3W4IT125SCoC0NljvG2YpTTFTsSvTYFxutbHCZ0tVju3Ou0I/STWy5Y5wtqmISiHaf2e2Wr5tHpEx9tqjwqtE2OxdBsoJcC1S5IvJBPqiFgLNdBWP002PHvFtelE/ca65fOCXUefhnemiY1x3y4zIWj9L72msRkiv/PMZk3ICMX7DM8aXOJz9sSwj3mWVVYAsGp6WoIlmkpaFQ3aSbwseiEoK0CFgWnCLHW7mBw92GLqtEQXzykJavxaCM928x41uwfy0W87mysomN4qLcHLvoRGeQ9UC7NSwGRmhKSOFk478vwM1xgBq0xUHFgHippOdYSRLKQpBlwnL1WPRN8Jo6Ra2L+DqxZa3pbivC4rLAPpPBfov97QP98Kjf7Q5ObD8cUK4OrNtqBz02UtdudzBg0PWXp1jQtTpBdUzL69S94I/mZWlO9LcpdNsPR3UVBVN8nVV8hTcwWNZnfpJuFmnaH/lFaOdeZTECxddbfZIh0fBvzvjtOeh+KyTo+lLmU0FUXVJp0WeGS4iFuUybn6OidA3bxWXWRc9d33gqE891og86GhKUmx7VMRdRxluUdTggCNh0PWmUVcIdYMzKULdl4bLiPMzgWT4ewUWydHNK4NO24sZXudzc7eRn5EG7v6PUK7/NHPz8dH+wc/krLgNHKaO/GfL1V69R3Z0bMpDUwvtGESsP965bQbBX6K1X2ApjuGR4ixhoqnCUoXsTVtCvoq9LB8XuF3luJ7omP8xm4XmjiN01HKhrBQ7rb6GYLpm8N4NKpfcvKthWu6haH7r7LJhy9Nliw6vmczRB/PYDm67VtnX2mwDzqgpMdPzJ/LaF1yVjxjmo11RtVwFbYcT1qbRTXm9nBU0txDUlEW25NElk+LnrpsrkKiqhzryqzoyTyy8v37Yp5W0GGeCq+7SYD2iVVO9LTlm81d1Rb2MYVJuxBK7XWkuZT4WRglv8NV0GVpqjNESHXVyD2fy5Gfg6tCRHE4NztNW6rpMDQd2vrkca79Vmv7g/H+CKHbIWLOxyzbjndO+pFpozApvz27SJpqIE5y7hnPJtm6CY8c1v5zHqrLzjKJxR6lVqm1cw+I4LAACsNMSqXb1m+2TjSgBYDFbMW0UAAAAAWPlAcQEAAABAbIDiAgAAAIDYgBgXAAAAAMQGWFwAAAAAEBuguAAAAAAgNkBxAQAAAEBsgOICAAAAgNgAxQUAAAAAsQGKCwAAAABiAxQXAAAAAMQGKC4AAAAAiA1QXAAAAAAQG6C4AAAAACA2QHEBAAAAQGyA4gIAAACA2ADFBTxFNFLXh8foo65Gvb+4tB8+Rr2H2/Se3v/wdWrW+wvFmz+IipoHvaeK7L89B8U1B6ld7z7dLO29tOwpcW7gHi6NsiguzV3vq4fAqfepq0UnRqXjCF346gv6+qtP6USHTgNPJz0fi3nAc+Fj6tZJkWl5nT6Sc7DAhocD0LQf3kf1j4eo59A71HPyqk4FAMSFMigujdRcm9C/E7ShqUgNfOAovXz2Ns3TKmrqPEJ7dXIc6e73U8AO0CcsjL8sZ9t20YkvuSxrK0HQL0d636SXrmfFjxTt7D+g0qIy/Bm9y4JIbkPEuWQHrf3lIaAunxT1eO8zGtH74EnQSGtWE+VmeYYURi7GymgdA8uQJbagLemcWhbWwcWzypVBcRmjkemc/p2ju6Nj+ncRsPLCAiu5hfYXK7DiQrKKavTPhXOF3nrlVXppx+c0Oq+TVgpCeTk79ivR+hfpwvFdOhEAAABQ/OaP2/f+Q/8GC4QtLjvX/0qjZ/9Mbw3oxEWFLS+vUVMyS9d2vEl9OnWlwiuWzoZHNHjoNF3Waf60UfepVqLBd6jvok6S8ApgH22YPke3KvdROqWT5ycp47GEsO/ZPi4U8onMB9Q/rHd9UWXal2SHaJBaKU1DtrVH5mnsS/dW52ay7JVOPZx6DtBu0WbrjBlX2/Py89bBOD//XMYp591+nwUHr9rSohszc7TVqCdbssx+dfeV57hsYy3dHZymDWkrD10vmf9ameJtm8TbP6JPQy1nrjwF5th68xN422L1SX1S7zJWHhH7o7h6q/IqvnPnIed67XThunvmbOB8teo9SJTmvik0313zQ/cDu9Rc86uF5mTeztwJu5fUfWv0etg4WnMmc4lotzEWftcFjbfEO56qb356wT1n3fPPcx8V6i/7BHGt7FvRx945LCk8p9bpfs/MthS8zyVFzCnv/Viofn7PU75266zzPAicV0yhennTBbnxAs+ZElj+wbk6BsZefVsxMYZlZu/xTw23iftYnlvF5bLRbhw+346v+II+6dGHI6DcQ2rbuV4nSsLdOUH1lvmKup4w8i/KAmHHDunNardupzsv052lfl84fkSlyc3j/iqUt0z/lD7p1+3qF/XXfWCW52730sc2JRr2Ud2U5UYaomxyM3UY5kz7IW65mQYfUX1nUPyWetBVixvTuoYfRO6HhxdxjbixHwqhp645RxOP9SEN17ODLtl5DmbXUjrA/NvctUkIFSs/fb42TV+emiFKbXJf29JEG5JhVlKRx26iAZ1nZjxHqbRRB/GAqhMPOqvMnsEZcdzbVwmqf97KQ7RznttxjHqfn6OMmWbGIdnCS+fL56xuDYxVkqb4dJV4uFrXiD54vJk6rT6T7kQuSz1E+bhbaWHGqP891U4pXDgfl9AK749i6x1O8FyJNl9FvevuqOMeIczkzQ85N8RfM23PJiHMH9FPhuCKci8p4Wido/sj1GUi5kyn6OhLRt4pdz+GjrfAFc8ktsz4I5ku3bZiriolgY+5lRZe9LjyNOor+3u1nhu8sSJrKk95hMwp0S7nPuf5ubB7wbdtF+9QVsyBuj3qHFamVIiHmdZGdeKZ9fAXQ2kJmldB9fK518qltDDxf6tICOL9javo3vVX6aUdeus6ow+aFgk+doPu+bmjqrbRhfrv1XGxW/OHaPEojoVFlXvtvj4gCXHnBNZbI+raRDfkMXafJBtfiSjkRbvF3MlY+Wo3XCcrD73fyzYmNzU7bez5nXRj3fvrUTqvUkRZW4hk3bhPVlFTm9VnAXlLVom8vlXp67dQ9V9Vv1jlsdJitvvafZH3/mgxOiP9H4gbwLMSKQWxKnAE1lW6KR4oidom9WASN+PWlLjhzdXMxW/EDVg4fqtZ3Mkp8UAaMG5MrutgUBhFy7NULVYwcw/0Pj/cTnoEiqinebNfPsmxO+aDxs1I/2nXakgKo2QFreMd2Qb3tc1NtZTIDodYksQq65JTrxFxsqsO4gHVZz6Q5AMyQRWyUAszD9HO7/ih6pNmCMn2FzYTjV8y6pZ/jps2ekGsWLOD7hVhWJ8VT3B/FF/vCATNlcjzVdT7pv8KXSLHrYrWaKGk5saMO+2ZKjEn77jvv9B7SZSbMe9ZUfdLk5RL1lKzS7HKxz2WV6mPhbHdj1HGOz+eyXuPeJH3sqtNIs+bRn2tNhlzQAppqSiUiOvZUY57wY+rNCW6ofoZPSekYirG15XG82yGprjtEebVosz1iMRfcdH4KhsdzVQnVg3zY3/RbpQzNM7KxfrfuQVlcpaGpNKgj0eKRzlADWxhuf/tgtxCwUqSULi0MnP+77Pi/6uo7vdRrC5CaepylBD64RGx7pSsZmlyhq5xDElyI22TSpBQRP4g1Oz523Stl/c192/QG+Z+1Rpdz6C8FfcmLAUsS+NmHqKsbZtWucrqm+CHSooairByLZTAwMx1FULsaouAvXnMvB7WVSYoNz3qPMiiIB52t7K8qiz8xlN+PbM0JzrbftD4IFehVr1dq0AVi5aqs8pSK67sVIAwk7hX2L6Ih5zzRpfpqgoiKF8lcHg174yBtz0ezIeuC88De8GUud5RCJorkedr2Djy3HKEEs/p7NRp0XdWmv98Cb2X5qdpxFvu8CjdFWW5lVsvpqKmeTAnUrUiFWm8lSBV41HYUmnC7WYLiGv8TJdHoTYthMc/Bzw7yjenHswaSiW3QyihfWJxY6UpZVUrpqHzapHmekTir7j0vqksHWxJsdwPlkVlYxVxPycbX7NdE253jmb+kbRCMH1dbAmIEC/SsUbcOAsgqN5+aAUhKi53zP4tsh8szv/tB/kWl1SCLOXuzoijjIQQlHcw66haDojR5u3RxNySYplzPVs5TZ2MNOla5lW+6QsoMNFgE/cxFRdh1dmzChwZnaactRriFRdN0s28B39xsDm512Uu5hVveXC9FWZvZbC4LTKLUe/AuVKW+aoUWyXE2GWglAK22sk0vULPVxSWORdPy77IjFdpIRyuwFiuDffmie1YYsoxp+T9ry1H7XVrlRLKljaZ5qOYRphXT+oeXREWF6Vs8KZcPbR+m3KpaGE/P/a5Pm5txQWyWnEsxcS+RKFgvf3QStjDv19R+0FoN5Tdbvm6ucHAURrS7pvu328U+WZp6O0I+TJheQfygB7KAblNZ+2xUJvLuvMk4VVdBDO2F3slY6NWJOGIVeF74mZ3mcELEBSTIuMPZmjQJ37BRq7clRmdV1dUrJUoD+UT95rrF84Y/fRYdIdtHYrA8M/00HDZOLj99otLCfXWeC1CcuWfh89cKXG++qEEWwWt47lkrbylYBNpeoVelEAqVDc9j/MsKiFIi4Bl7ShyvJWbOdxt6LJKFMKnTdKNtiiUPqfysC1djmKqLFSclqIKUzENnVdlrFcJxEZxUa6IXXSiM2iFr109FgMjNCUEZbLx3xfwnRPtEhLU1BsWEZ237XYSAt3XmhMJT73z0O4ccdu5XS/BWEpOd1t+n0kXTXIL7RRKCN3/vug3koLyLswV+vYOu6lEuSUogcoNEs3kWzL65q7f7Q4ebD9cuFzlA3cHJTZ37Q50L7F7pTvk+wZshu22H7KN1LV7c2EztWlGl7RRt4/ZllfQqTrRNqG3lPTpAhf5rqv2w1FdRcGoYNFWo/2CwD5T8RXewGBZH7FyLNayNPLLIzFPdXxQERRfb23paPg3Z37tOegO7A66voT5WhCZ11r55pGz8uYxVmlh377Jw3ZxmXXR8zg0tspzneiDjgbTJRtlvEVZhwOCgPPuGUt5c9/L8l6yLFw6zsPV37puYSzdnBL4tM2aa6m06CNDCWVlTabNz4mlpSbCvAqvl1JuEpXmZFaW4YV+22X5Ky4DRymjv+vx9VevUd2dG65gV++bOaw83LtuvY7MAbJszUjRTuOcQJdMHo5S4cRuMCLvDFsbdN7bia7Jj6dZ6Dd1RJ2bpADT5+k3cILrbWHV2/vKc4G8rTeXev8i+6hmu8q79aG7zyQ6SJfoVxq96gkKDiJK3gGcf/vP0kVmXa+25fQBPV7VnqMJ4rcT2LSstq2z3xRebXJwXmaSyPD38lsCgcG5gmrTP+zzKmVufIjmnrfqsI/qaTLvtUwbUYeBcVJxEPL8TTTlFzDIK+jUZqp/HCY4oiD66pK73XVTZXIVsYlf1D+Vttojts4Kmgpwf/CqOuPqA/1WRJAVqhA6mFm6F4r5aFhJ9b7klMVb3R31BopB4blSwnwtiPVNLtMlZKWV9o0udnGpt+GsuqlXqANfh5bkaGJwjrZa13VyIKj7ddpI473a7BfPJxLM2CHzzTPPvdzLr4Dbgc0+/c1vmfnda16WcE75tk0gFTPx13QJWWnuOL0I8ypCveSiTscMlfNDdPiOyzJFvbG0mN9n2aXeuHp0I/9tJvCEEStF/Y2McsfVqBWP3zduAFgmiFW7es32ycaVgOXLinmrCBTH3uOvUFOySGsLiD86FiZ2QZYAAKCB4vK00aM+QKe+pbJUX/gFy4NG6np+LeXGS3EjAADA8gCKyzIl8mvZxcL/kOFye5MHLDoqsFl9RbT87icAAFg6EOMCAAAAgNgAiwsAAAAAYgMUFwAAAADEBiguAAAAAIgNUFwAAAAAEBuguAAAAAAgNkBxAQAAAEBsgOICAAAAgNgAxQUAAAAAsQGKCwAAAABiAxQXAAAAAMQGKC4AAAAAiA3/9C+b/vV/6d8ALAMaqevDN6lj0y90Y+TvOq0MtLxOH721m/7lvwdpZEanPRFU+zqf/2e6/tf/0mkrlD0HqXf/n6jG1ee6/e1/pB3/h+iDNX/yOad42g8fo//4Q0Cfyrpso//9q1v0vU5aNJayrCeB77iWh9BxjMIi1q8cyDa+Kub//7mOfvn/muj/eWsfNSX+Qv85KQ4um+fU8qYsFhf1L88eE9v71NWiE6PScYQufPUFff3Vp3SiQ6eB5UvPx2KseLw+pm6dFBl+oMh54r991NWoTwQrlfbD6l+o7jn0DvWcvKpTAXg6YFmZXj1JGZ7/731GIzodFEcZFJdGaq5N6N8J2tBUpPAZOEovn71N87SKmjqP0F6dHAf2Hv9UC3G1fdKjDywXLKWw/4BOKAO9b9JL17PiR4p2FpvvxdNKYPGWmaSc+G8io/fF9m7/mD5xpdBG3UIh696jdyVj1P+eaO/TILTleH9A/cN6Xzwr1qwmys3y/NHknRMv5KLtw9epWe8/FZRlzNjytkiLlWU8p9ZVCln5+GdHYRn+jN4Vz76+i3ofRKIMissYjUzn9O8c3R0tQfiw8sLCMLmF9pdTyC4y59/+M72041U6O/arTllKdtGJLyNaPqrWlFchFMqLbPP6F+nC8V06EQAAAFh8fvPH7Xv/oX+DEmHLy/7GVXTv+qv0Rq9OXHRYcXmNmpJZurbjTerTqU8aXoF2NjyiwUOn6bJO84V9uZ21dDfjXRnxSmwfbZg+R7cq91E6pZPnJynjMa2yr9g+Lq03Aass3/JUWfVJvSvIDuavflSbLKuiIDtkW0zcdTCuZ7dYeq1K1KhjTvscC1N4PWQ5NESZ2RajLjOh/RxcPxLX36G6U61knZIbN+vFsNXIOe43Dnlttc6xyxB1lP2/mYxeVHUh4xydrsbKONfob4WnTuL4ILXK/iloyQptr9+4MKos8oyH35jltTszR1uNdnjHNLydJqq8iu/ceci5WTvtjIk3T894eeeyq05WvQeJ0jyefmPNmOMqdouemz5zwRqHqHlFaod1TdHtCrgnZN3Fc2RwmjakuQ1m3Tzz0vVM8h7T+Y42qfys86z8zedUUfPk6WD5v1Wk3R32yt7H/eF12bhdI5ZlQm9fmu6oA/SJdb4du1FOl4/O39681pHg49395jGnXqq9rLTwXop2WufY7fbk62qzolDe1rUXjh8x8lj6+KNEwz6qm7LcSEOUTW6mDsOsbD3gbNfT4COq7ywmxoofJEa8BW+ZSapOu83XXI5SxPQ5XBd9jB8odbPnnOsHZyiV1nWQ5mp1Lj9U+bhb8FlEq4ck1UoddEmfd44m5tdS+nCbPpgPP9xtfzpvon5uxPWnNtGUUS6JfnfKdYS2VbfBx5up03CNcBm96SrD5Sfq9VgfNJEmca6zemDzub79YT+4jfxWt1Kv3U5Vp2qdB28s5EzlrDBB7VWW40Rtk9vts2eTuMNmaCqvrsrllxnPKUHI+bmEoShrN9GAVUdxXip9kNr10fB2loLoGyHgHtrj5R4LW8nRdbLmmduVKepdd0cd9xPuhShmbvrMBZeyGJJXtHZ4idoucV7gPcEkqP55a2y10sLj6ZmX6plk1esq9Ym0QflAUPe6W0EuwKLMk/gT/9ehhcJhWTvYbSO3rjP6oGmV4GM36J6fO6pqG12o/14dF7s1fyhHrA0rAC9SzfxtOmuVzUqGrUR4j/NmWE5EuxomrPTPaVTc5DXblWKjXFQqTdwFum1is9t9ht6Qaao9Xlhp2bn+Vxo9q667dp/zdisnycYtRLJPOY9V1NTm6bMCjPR/IG6uAiutYhA3tyPYrtJN8eC3hYq4mbemxErHXHVc/EY84KLHWDUL7SLFAsfMQzxQB/LK4VWT2R7xALKuEef3mQ+fi3fEaCSoYp3ej0CkeliI8wbs8oTg/E4oIqlNjjD0kOdPF8qUW1nwtM1TrqybaxyILt+cpFyylpqlgthGL4hVb3bQtGKJep0sQuB5aH9hM9H4JXd+Rjut/nL6Qc05KRBCCW7viCg0a7dN0V63VgjXb0qYz6KsS04/yLyFUKzTwjWsnSXR8ixVi3LnHuh911jwWJGrTtz+W6LfUnWmEBT1vlnCar7IuRlIYF5R2+ElaruC54hF9jv3HOfxTIh7xaWMiPuN52VwvYJZlHmyAoi/4qLxVTY6mqkuKe6Dsb9oheAMjQshTet/57Z8JGdpSAp9fTxZRTXywALo+Z3M495fj9J5mXCGrnFcSHIjbRMKwt7j2zzHPfS+abidrtCPj/hvJT23YMvHAWpYL/7c/5beGlApfVdVcHTd7414lfs33G6vcsfJhOAK4PSyrkKoB7wyMt9K8pjtQ2ChnpsedT18mJHRaSGYK0jqHlzO/DSN2A8NH+RKy6qD2xQchUj1sDCVkAhIJUOsXgu/7feIfvK0beQXMdF0uVLxkdcb/WyarKWg9LNGlIoK3mVrm6tMww1VqL+iEdxeVkqnsqby20Z1QnEtKW7PpyyH8HaWhBTgCbnKz1uRy7HSx4wy8y1VQfUOoMi5GUhQXpHb4SVqu8LmCGMqh4waz+xUvmJ0eUooGaufdS9AIrNI82QFEH/FRQh4thjIwF7LtWFZVDZWEcuyZONrtktkJwttL/OPbMtEXxdbGRYeM7L3t5X6VxC/0sMf9M883O4e33qXQscaceOvANhKYZlkjS2S+bVMsBup12XGNdxIywEhyPiNBctkXcrnCixTvnszLSzlx3KtubcyWPEiwILGXl2zmyg7vGhtXYx2Xj7JeWh3Ags5lwLD8Rje8sQWu3iJldKOaDzJ+2G5siIsLkrZMFwj67cpt8cPj4i9KfNjn+vj1lacYmLFgyw09qWmepX+ZbGKqjfqny7YxfUi1RhuIKmcLRZawYsND+YMd0VpPJjN5btiBM1NtZSYnyO5oAosh1fj/FBZmBCPVI+FIuNtOFYg3JXGrhHK3pEPxUJ1sxn+mR4a7o+FM0Y/PQ43refXSa1MS8Fsr4RdjqTGnI/5raIXTrR2+lH9jHv8pFUsjzH1yj3HNFkuhbKP1RPiCbQjb47kUXg85bUlW6NKnycrndgoLslqNtQJgd65JUDIalePxcAITQnNJdn4756g2GLQrhVBTX20OA/m/NvfSiXKcWG5XTTn//aDVKoC42ksS1DHEWrNs7iU6D4aOEpD0l2mlTtBdz3bWbM09PYVlbAAZLDmKSMIcTEYHqW7QgjX73Z/P6P9cPRyVTzDZuo0V6Qtr1MHx2xY/mvb9G7m20bd8poszYkBNAVJ+2Gvqyj/HC+R6lEi4f2xltLmN0j2HJQmd0tYK3eVOyjaaT+jYo/sgGRJI3UdLv27JtK0nmp1B1qK/ujWdVAxNu46NXftjugmDG6vgoN0SSh4rwvFNNwNlu9GiEZYO/PRwcMN/+aMqa6/TeD17AYTRZoBwoLmroNFW+HKgxLKiUr3HRPOYrcjyhzJx3LLuoJ45bUlxgxpQueJ+M2u6uDA5JXH8ldchKDN6G+G8Js0dXdu6KBUhfeNInap3Lv+Zx2/cYXeekUHxRrnuN86CsNRhu5NWMGvCssSw8HBTM12ta8sM2foDf6wnu3CepFq7t9wAmitD++ZLi777R1R77+Ku9M6tr+KhuRH39z0denA2f36eqtd9teI2WojsPLRx/u6OLDXuW7n+uX1SnU4vKI8J1bGQuAbvt+ts8UEUXKU/xBlzRgO7fZxBaOe5DcBzHiaViL5EBN1uKTeOLCur5vyuopUIJ3lo/Z/uESrR2mY9fZ71XeGBr+rcPowvVaape1y2dWk36qw63aqheaMBzEHxmbGyYg5EOXMlhqDImDrkHw7y8pPbJ0VNGXV26dO/AZKtODckPZqWGGjhs1UHSUoVwaF634u5kN0Ye30YaT/klMWb3V31FtNBtXmWJmvBAvy5/Ix6qy8s6huvyCcGKziPkS3uO2INkfy8LtXZP8v0K1awjx5GsB3XAB4GhGrQa9gAxpexUrlcXFjecAyA/dEbFgxbxUBAEA5UPFFIW+TAQCeGFBcAADARn+bZoHxRQCAxQOKCwAACOTr7frrpwuPLwIALBaIcQEAAABAbIDFBQAAAACxAYoLAAAAAGIDFBcAAAAAxAYoLgAAAACIDVBcAAAAABAboLgAAAAAIDZAcQEAAABAbIDiAgAAAIDYAMUFAAAAALEBigsAAAAAYgMUFwAAAADEBiguAAAAAIgNUFxACTRS14fH6KOuRr2/QthzkHpPHaR2vbucUP9ysdg+fJ2addqS4ekXWZcnUY8yIet/uE3vAQDiRlkUl+au99VD9dT71NWiE6PScYQufPUFff3Vp3SiQ6eBhdHzsehP7tOPqVsnRUYKKS0kfbYVp6zEAL6/0qsnKXPoHep57zMa0ekAAPA0UgbFpZGaaxP6d4I2NBUp2AaO0stnb9M8raKmziO0VycvDQfoEyng9fblUpe/SPS+SS9dz4ofKdrZf0ClReXiaephAclbZpJy4r+JjN4X27v9Y/pEsFSsqxT31+Ofl43CcvnkYipQ5bTmLa1lUC7gnrglaoVaQwEwKIPiMkYj0zn9O0d3R0sQbKy8sKBNbqH9xQraBXGG3tjxKr204wbd0ylFY1uM9LZk9d9FJ77kMgtYVYTycnbsV6L1L9KF47t0IgAAABBvfvPH7Xv/oX8/xbDl5UWqmb9NZ185Sud1aiistOzfQsn7N+ilrjMqrecInfjhKL01oHYXD1ZcXqOmZJau7XiT+nRqFHhl2NnwiAYPnabLOs2Xltfpo85aupv5gPqHdZqEV3X7aMP0ObpVuY/SKZ08P0kZz0qc4wns49J6483LwC5vmCo6W8m6LDd+zrH0sCvr+TlPOW3UfaqVaPAd6rsodq18BqdpQ3ozKXvgjGovX59eK1PsNL0n806LbA7doTqRn2/5mqB2yWM0RIPUKs/xu97GVR+Bqw9Vu+xiBP55WeMxRHdrW6k+SZR19YXVB4LsEPWcvKp3nHEcoN1iTlhnFeoXlWa1z8nHmlN2KU75ElUO10tRYB546yow2+stw90WDwF5WfXPzLYUbrMguE0m3vYJeBy/q6BOo98Yv3uP67N11mln0NySFBrTkP4DYKUQg+Bc7c5hS4Ydu/EFfdKjDzNGuvuYuvbC8SOGSyhiLI1lSXFZUEwrh/jdKZQWEoqDpbQwvabS4nFFGdaRvcc/ddVF7Tt17+4X538plCD+q6+3LCfqXFZaeC9FO638l9RaRZRo2Ed1U5YbaYiyyc3UYZiobQFnuZ4GH1F9Z1gcVEKcs4mm7GtmRDm7i4+d4nyeJxqQ+Zyjifm1lOY4HVZ6zLS8IE0+zyg/M0kk2mma3iO1K9Vq900hwcFCrDdd5XLFDT7eTJ12IOxV6uM09vqxcArIi0k0iApcUvm4FDg7f9Hm1a15gak8jh10SZ/D5XEfRA9SlsK4dlr3q9hEn1Wnj1H3HnW8/bAQ6o+d/sqMP1IHvAx/Ru/KcVECl881hbkS+LoMqy2FXDMBeUnE+Dhtzp8LYW1yM0b973G7ckph4fNZ+bx4Rzwd1lKdfY3lVjfT2qhOKCkPf3HaGTi3gsY0rM0ArBDi81ZR1Ta6UP+97dap+YOOR2GlZXuK5sc+F8dele6Rmu1u5STZuIXo+qvi+Oc0Oh8xlmZghKbEA4DW/85xxXQ0U51QFubH/kJ9tI6qWXGYf1TAzWRYcWx3lFAyiomjSW6hJroh23XtPrfj32Vdzr/9Z90WPoktLpy/2EwFKoCR/g/EQ829uiwJIUydFehVuike3InaJiVIxAN2a0qsYs0V8cVvxEM1PA4qO2jULeI1+YiV6iXLciEEy3cz/mmpTR4BzStco3whDAZKaZcQYDd9V+cWbfSCWM1nB92r6csnhQLoEmxFkB125dX+wmai8UtGWoE2i3E0BVxxdeB2kNGvAtFnt4SylapjRaCR1qwWvTrL2pdipP90vrUlCNnnnnHhtlyapFyylpqLVmoFYnwG7DZ7+yWsTVG5SlPimupn9LxoaaINyRnKutKepWqaoSmtaIbNrchjCsAKJj6KS3KWhqRgPkPjQohTsopqxJ/uerapZmno7SvirxDqf/tBBvrW/d6I67h/g97o5R9X6Ede7CU30rZQq8sVeuuv/LBNUYNlBWlTFhZZVsca8cAJoOd3sn73/mq5ns7QNY45iVS2hceaQ5X0XORrFx9TGOWxroIS0nphvpXkMaf7kqO5B/pn2XlEP4UKzPxzRn4RkyZZIVRVQdR2hQXTmgLLhUfYFYF7PJTCwNYUp55iM91SmvxxzNKcUIoj1UG2g61kRhlic1wdSrCqepT4qjn3+fw0jXjHbniU7gqhXiEHpkiCxie0TdF5MGsovdyO7B3qmxL9odOam2plmlTIQudW9DEFYCUTH8XFsGz0dbGFgeM6dtFzVZxiuEs45kSe5c+9h0J5iErv98q6U88umAPUsF78uf+9iicZ+Ike8t8C7P1tpf71FGOZzT1b7M3XMWoXx2V461kWa5sLjg/xKceyHOg31TLjVVooL89v5bgJaVNERkanbatQe91ayk6J69mFJNOU60imWUSYW0szpgAsX+KjuPiiLShsmbDcJXp7WVtgvNRUrxL/n6UfIwXPaisJu4ukBeVXGr1qWUAe0EN21WjLTxRU2U8JD+ZKN+OHYVk/LOQKefFggUPWqrhc7Rr+WSi+fu4Yd8xD6YzRT4+LdW1opEsj4huCBduRj3JRluAKK9Tnup5lt9AV0aZQbKsQj6tlYWOrGqelqCJpWN1C59YCxhSAFUTMFReivgnlzmmN8spvxxFqNa0mEVCupxTt3C6kyfwP9K2t8DiuJPNbKXuPfyzja86//a07Fse22HxrBO+uouqN4o+oV2djsUqNpbQV7z6SQaGLverVD+z63e7gyfbDCyxXBzxutYNlG6lrt/tNioWxltJmwOeeg9JFYK+Ky9YuFROUSruDetsPt1IqND4mGpenOPah1R1Q2vI6dXu+8cGuB+cc3Z9+rhlflGsrlXa3v7nroG6XyO9wMd82UcI5UWn4ZWR8CbtuzDJ0PT1xPW588opEWJv8cbkUbdTnIlJpMa6W8itgF5JMm58TSyBNhLkVPqZ+bea30/BtF7ByiL3iYn2vJNn4mv32Td6bQ+tfdNxI5qvL9jdYXlRWE/6ODO+bAbRWkK7AiVfRWB96s/IXWyf9RSsmZ+gN/rCelSeXYZR9/u0vZXBtzXau10aaus4f4SuOvi4O+F1FTftV2Uv9VlEwY9T/3jmaIH5LxvHHb539ZoEm7avUJ980svz8u4ku8Sq+XMzQIL/GatU5vdbzGmz52sUWiMw4uWIp5Bsl5fq4G7toRF+l0k7+vZ0VNOVxaeXGh2jueeucfVRPk3mvtQfBH6RTbyI55XRW3nEUitVmXxmvrRfg8s1JygnhzOdbwja/DPUad5jrxi+vKIS2yQ8ZSKuvMZRf6S4Sf02XkJWWmx41+jnC3IowpqW2GYC4sMK/46Lf7DGVlRLgV5N3VhX5jRcAlj2N9ndc8NosACAuxN/istj0fEw71/tYWwAAAACw5EBxKYTlRtLfiFGvUwMAAADgSYJP/gPw1AJXEQAgfkBxAQAAAEBsgKsIAAAAALEBigsAAAAAYgMUFwAAAADEBiguAAAAAIgNUFwAAAAAEBuguAAAAAAgNkBxAQAAAEBsgOICAAAAgNgAxQUAAAAAsQGKCwAAAABiAxQXAAAAAMSGf/qXTf/6v/RvAJaE9sPH6D/+8M90/a//pVNWAvwPFr5JHZt+oRsjf9dpy4Q9B6l3/8u040//k2r+e5BGZnQ6KJ6S+nIZzw0AYkhZ/pHF5q73qbMhIX7laCLzAfUPq/RIdByhC/u3UJJ+pdGzf6a3BnQ6eDIsaDzUvzZcn9S7eczQ4KHTREJxSdMQ9Zy8qtNXAsv0X1pueZ0+6qylu8XelyCfkvsS/wo3AOWkDK6iRmquZaWFSdCGpkb9OyIDR+nls7dpnlZRU+cR2quTwRNiQeMxRv3vvUM9h9Q2mBVJWaGg6P0eobRcVieCpWJdhbgrH9FPi6K0tFH3qWPUvUfvPiF44dT74evUrPcXjUh9uZR9wgrRMfqoq8hnbtlZHvMAPD2UQXEZo5HpnP6do7ujJawoWFheF1IuuYX29x/QieViF5348gv6+quPqVunLB1hZR+gT77i43r7cukUt73HP5VlftKjE0wWdTwAAACA0imLq2h5w8rDa9SUzNK1HW9Sn05dGoLKZqXlRaqZv01nXzlK5zmp4wid2HiU3uqVJywqrLjsb1xF966/Sm8UU540l2+mh4PvUN9FnVYAjmXxcwlZ6ZnZFu1iZJQbybTIOC5IRTawTMccf6tyH6VTOnl+kjLvfUYjckedU/GdOx9ZTu20fZ5Vv0FqtfPJjbOZn+T1litMpVmKulP+AO0uvV2WO2JwmjakN4sVfv71DqpM0zVn5iXbYfUD4+oLA47bSBMNDhKl02td57nzMFzB8hpxrkF2cpKqN3tcKfK8KpcLWba/ctieF+HjzCv6VrKrYdcvv/2Fj4W5scvQl359IvNw5kbhuako2N9e9H3o9BrPx/+ku7X/w+OSUn1Xbc5VeW0F3bLnVaH+dShqHuSNHwDlJQaKixbw92/QSxO/o6+3q7vHJXB7PrbTGeuYJZzz4Ly6SOZbPfY5vfz2FX2AUeXZ6QXytnCX4cSFBJd9hrr7v6Cd64PjSNQ5ekfglG30icgrTwnScSoPx25TdSPHqzBaebJjWLxEVOzKpbiILnUEvxYaj51zvcpEeLmO4HEenN6HtjonkuIi6mfnYzyc3WmmQHbKNxUalZejfIS2yxJIfoLRhRY27Iqz+ldfS6aQkvUUSklB5Udgtc/MS5A3fnltVnUgu78dAe1uf/5YW+eEj7O3DJ3naqd/8vIQeOve3HWQmkdPF1BcytiXPvWNNjej9LeX/P7O6wtrbI355D4nvH/D6+XXZgAWj/i8Dl21jS7Uf08v7bhB98RuzR+0W0UrFvNC0Xhpx6t0duxXqtn+KZ3oIDr/9p9F2uc0Os8nsmB+VZ6jhH0BOtZQtfjz8O+O0uKXN2NaLfj4tfurqGm/cgsFl72Lnqvi9Fn6MVBpYcXGylu02Sg7CjWNG2mKr5cxKylqPb5LuYF0Wxir7i9FtUYNf0bvHirDA0o8SAcsgcCxMd/NEKU2Ubvcb6MXGogmLjmCiMu9lRWn1LXphAII4ePU7SrdHM9Rorap+PgHM5+L39AEj2Nemk9MlzjHFnSCyyeHxOivpTrp/4/erux3xjk+NHe1UIqFkSVMGJHXQKnt5VX0TSMvIbi3ssJl5l+ozTbKbZyotBT9NqpL5SibNdNSVJG0XMrh/SHb6RpT0ac3JymXrKXmFp2QRyOtWS1aNCsy0oz0F1JaFqMvCxA0N0vq73xGRqdF31TQOr3fXreWctkZV9q6ygTlpkdln4f2b5nqBUA5iY/ikpylISn0z9C4EOKUrKIa8ae7nh+IWRrSVpPzf/tBBpbW/V4I6UAe0EMhjJLVfDuzxeILusCCXfIrPfwhLO9dtG3TKiGAb9M1bYHpm+AHZYoa/OJGXKyj6nyTh8EBamBLy/1vbWtM31UVMBveLof5sS9d1hzV1mXC458LC+aWZ4XymKD6zmPUe8rZHFN1YUxhVW6i5J1/TpbmxDyrfkY85CO3K0dzD/TPApjCx8QruKLjCTqVgahrKW3Us/eU25Xix8gvj8QtoBVQbu/8NN28Kepkpe3ZJJSEaRrhsiL0B7eTUq2u471skdLH/VGKcKJhnzj/oFaGC1P+vvQncP6U2N95DP9MD21FmRU4oSTe/IbuzjvKMyuTVixiaP+Wq14AlJH4KC7zj6SlhenrsiwEluUiRTutAFdfN4gfV+hH8YylqjW0t+d3UglKbmqmvRurxPVsCQnLWysfHMBqHTdcSsEopakg2urzdMPuFecNJXszV36xJEbtYiuET11Ni1IeF+/YFqbmploiVgiGR23BKS0ALiUhvD/YzZR3/FAh94nm4ml5Xma8SgvdcAXmiVNKf+dxlaaEfiQtVi1NtIFYSVSWMJlmKo6a0P4tS70AKB/xUVx80cqHeFTarhi9ueNW/Ln3ULlLttWn6N71G3QvuZF21ldqJSksb618cFyJ53h4sKuVdyU9F9X1IxWqpwTXqrH8SOuHgVx1LhYsPCzXSBnb9WA25+vGYGUhMT8nZucCeTDnuAuKQgnO6mfaqFnoLWplrwQnp0kLgPXmYYT+KNTOqIz0fyCErOmuy2fR+zIKJfd3PpenZohWP0vtluIo0qT1iNOeqXIpjqH9W8Z6AVAuYq64OO4ZGb/hS2El4fzfZ4mEslJXxa4hdkGtomq2sjz6Sb7lE5z3Ffr2jlB8kltoZ0HXUOGyLdeP61spPR+r15MHjtIQu8PWb7NjWrxuKwlbi8Sf7v4XpcWoGGTbBdW/je56knDQoljBLu43G/SqMe1eJXOAZdeCHqA6BqPh35x89xyM5IKKCrsnnL5ppK7dHGhrrXDL164RsRzOJjdT52EjNkaMTUdDIjQ+JhLSSpKg+t3u76O0HzbrbrjBDFhwJhpaqV6u9lUau5BkWtJ0SYX3h3LXbKYO17dK2qjbaLd0T7lcOqLfD0f/rkt5+9K/T0KJ1N9exuinx2LO2fFDGrZ6ifakGyzFUcBKokxL0MNfHEtJaP+WOA84ADgWVi4QS2KvuFDvmzLQNNn4mnLXyM0dxNrXxQG9HDirj1vfJvnhkVQekvQDfTugLDDJpPEmUEjeHICrgmatY7y5v9lSsGzrQ2+mq6n+e9ta09fFgb3OdTvXm2/9nKE3rO+s8DG6IetRFKJtfI3TtifxnZvCXD7JH7Bz+9Y7K+8EuwciMNJ/iSbmjXzr7lBm3PoO0cLJjQ/R3PNWnfcJ4T3petulfO26Sn1sSTDjE+RXXcv1Zgd/TPAcTZAQ6EZdt85+Y7xRY8aSGMqsdBeJvjBdQjqNsndcb+SE9sfwZ/RuZpJIl6G2FpozA4llsKjOw/oQ3Wqz3mFvvJSzLwv0SShR+jsfGUir6+18iE4phORyCek0mqEps02h/buAeQDAIvEUfMcFAAAAACuF+FtcAAAAAPDUAMUFAAAAALEBigsAAAAAYgMUFwAAAADEBiguAAAAAIgNUFwAAAAAEBuguAAAAAAgNkBxAQAAAEBsgOICAAAAgNgAxQUAAAAAsQGKCwAAAABiAxQXAAAAAMQGKC4AAAAAiA1QXAAAAAAQG6C4AAAAACA2QHEBAAAAQGyA4gJ8aT98jHoPt+m9FULL6/TRqfepq0XvLyf2HKTeU6LPC9TPOx5y/8PXqVnuNVLXh8foo65GubfiWM7jBgBYcsqiuDR3vR/40A2k4whd+OoL+vqrT+lEh04DwSykz6QQ4LEqsK00ZSUO8Jikq2gi8w71HPqA+od1OgAAgDzKoLg0UnNtQv9O0IamIld9A0fp5bO3aZ5WUVPnEdqrkx0O0CdSSOvtS79ziPYe/1Qe/6RHJ0j0tQWuiS2hfRbA8Gf07iEWkLwNUVYkZQetfbGdvKrOA0vHugpx5zyin4pQWC6fFGP13mc0ovdXDm3ULRTo7j16d1FZJpYqaW07SO16FwAQTBkUlzEamc7p3zm6OzqmfxcBC+LrQoQmt9D+/gM60eIMvbHjVXppxw26p1OCqP7tLv2rXERTnBYDf2VME9hnAAAAwMrkN3/cvvcf+vcyhxWIF6lm/jadfeUondepwZRyjYnP9R1H6MTGo/RWrzxhUWHFZX/jKrp3/VV6o5jy2PXQuZkeDr5DfRd1mi+8um0l8jmPYyjSNESZ2RbqbLAsajM0eOg0XdZ7DLsJnePKelO4TF7h7qMN0+foVuU+Sqd08vwkZWzrAdepheYybpeJVR9lEbLyGaK7ta1Un1TnqLJVm6ysXfWR/VJLdzOXiHbvs6+jrJWvQ2C7rHwGp2lDejMlfPrFwV0fVu4njLbJdjkHPX3h4G5/of44R+/2q4WDla9Zb3dZ7npYedh9knfcS3C7oo21B7Y8pNfqHYWs/wNr3IapotMpMzfutNciuI0G+h5xRpjz+08xn/6Hqx+tdlabZclrK+iWNebevHzmU6F6udOZoLkEAGDiH5zb87FjDRHbheMBFhf73I+pWyflWVQM60V3v1Ba6FcazRhKz4BbaenuN64Vm2Md0fna+el9bbFR1pSP6YS2qrjK1jEsrLQwNdv1cVe9l4BUK3XQJe1GOkcT82spbcTASOFeO00Zy82UmaTqdLiZP9Gwj+qm9DXsrkpupo4SzPWJhhaiSyqfzHiOUqLsXqn0mGleE3yC6jt329fJ8kU7zdieaO0S+TwvpoM8p4CgYYGmhZ4qS2yDj0T5Tl7S5TM4I36xwBK/y+D+4fqnUyo/l9LCio6rHk5MWvthobQ8do5nxh+pA35EaJdFUWN98bQ6R/xkhYWvcZRgHrdNNGWXNyPy3u2KqQtrowvpMuU5rRQgPv/d/svSepyobdJBz4I9m6SiZKY1N9VSYn6OHvCOVFpYqdJlcp6r3fMpqF554w+lBYBQ4q+49L5JL7Erid0mQbAysJ0fQVm6tuNN6pOJhkWF8+C4kfUvauVnFz1XxefM0o8D/DcfVlp2rheKzVlxrbj+2n1WMooJmE1R06YfZNlnx34lWr9NXctuICtNwBYX2Ua73iHoOBbnoV8iYnU8YK88x6j/O/GATW3SikAbvdBANHHJELSi3FtiGFJ1IQG+YkXq1O0q3RQKhktYRCQ3fsleTY+IHzwD8tPWUp1HmGYHzVX4VepjwVFCu7LfBSsZ7S+IVbhoq8sqIITzYJQ+KhFlKRL1zxgCUAjXrazImFaAi98IoW3FpDXSmtWi72ade2ik/7S/pUJQVLvKNNZMdtBok6v+gtA2RmNkdJpyyQpap/fb69ZSLjvjSltXmaDc9Kgce+4LMuZc3n1SpnoBABzir7hEYiN17t9CSbaenDWEf8/vqEb8ufdXbVEZGKEpsQJLbmqmveIxVW2bzf04QA3rxZ/739JbWrHpu6oCZut+HzXOxmPNEddWb9Q/lwOPfy4smFuepWq5Cna/leQ2e/tjCshy8/AXQ5j6kqM5uVQ2eDAnUqtoDa/MI7fLJx8XShnITrldBszlKSHYVj9bkvAOpHa3Vlo87hEZ/LuW0kZ7ek+ZbiElbNk6Eh4kWly7yjfWIf0d2saIDP9MD21ll9uao7s3v6G781ZaG9WlrFg+1Req34xyTXdXueoFALB5OhSX5CqhtAgMJYPZ+9tK+ddxxbxGTfYD5QE9FEpMQTrWCAH3tGOZtz2bx78fP+LZLo6xyIn/V1imAROOLfFpk201kW4adhFVaSEbw7dcwtoYias0ZVmOWppoA03TyLB6AUGmsetontP06QLLreXeDOtQWeoFALB4OhSX+dt0TbpiLDeQ4vzfZ+VfxxWjNxmIe4V+lG7+SnouqutnY5VSkJ4GXCvTcuMVvmplu1iomAUtjMrWrjH66bG/S4jdD4HWrBLJTV+idwdnZKyPK9aELUrJWmr2i/XwMNL/gRCqHGdSqA+Wvl2RKKKNYViWo3YxL0i7hKQLidOeqbLdREF9YVPGegEAFE+Jq0goJ29/SaPsBmp8zQmg7f1evmJd8wf/V5wt14/rWyk9H6vrB47S0H3x14pLEXTXqxiaobevqASmao28VgX6FoelWBX9ircMngwPkl0YemXqCX5t7jpY/EcIXeh8n7e+Cst57i6jaZ3dQEadRV91NDgxC+Vs1+Wbk5RLtbq/E7LnIKVTOZq4uUjWG7aceJWX4VG6Oy/avdvpU6b9sNXGRuo67D4WxOK2K0tz4j6tfqbI+I/QNvqhFI9EpccPePGODCJON5DzeQdWaGVawuWOlEqO6AvXvSbmVLfVN1HqZboqNRyrhG+7AODP8ldc7K/EasHP3y3hfdfbOWJfBt4qxYT38799coXeyrAiolxD6vgZeoMDcq089WZbZThI1nu8/nv71eS+rs+FMiQUm/3q2M71ZuCvyNv6zgofoxsyeLcoet+U11htWvK3ikLgNyIGs27/fWflnYJBnVG5fFK9fdKp8+Q3mzjwszwI4To4R1utOndycKX7tdqytYuDpDOTRGYMRJpocLG/jiuUF/stK/l2yxj1v3eOJsjpU962zn7juDNWm8f8X5G3WdR2mfE2xSjfEdrog6WE8bmOIqaUV3K5hHQazdCU2S+GomiV2dtZQVP2fIpQLxn8bcVVQVkBIIwYfccFAAAAAE87T42rCAAAAADxB4oLAAAAAGIDFBcAAAAAxAYoLgAAAACIDVBcAAAAABAboLgAAAAAIDZAcQEAAABAbIDiAgAAAIDYAMUFAAAAALEBigsAAAAAYgMUFwAAAADEBiguAAAAAIgNUFwAAAAAEBuguAAAAAAgNkBxAQAAAEBsgOICAAAAgNgAxQUAAAAAsQGKCwAAAABiAxQXAAAAAMQGKC4AAAAAiA1QXAAAAAAQG6C4AAAAACA2QHEBAAAAQGyA4gIAAACAmED0/wNb+qh7jjJ3ZQAAAABJRU5ErkJggg==)"
   ]
  },
  {
   "cell_type": "code",
   "execution_count": null,
   "metadata": {
    "id": "jF0bhLMhaD5f"
   },
   "outputs": [],
   "source": [
    "def clean_tweet(text):\n",
    "  cleaned_text = re.sub(r\"http\\S+\", \"\", text) # remove urls \\S is any non-whitespace character and + matches them all, needed to move this before removing some other things so that it removed all of url\n",
    "  cleaned_text = cleaned_text.encode('ascii', 'ignore').decode('ascii') # remove all non-ascii characters, seems to work for removing all emojis\n",
    "  cleaned_text = re.sub(r\"@[a-zA-Z0-9]+\", \"\", cleaned_text) # remove @whateverword \n",
    "  cleaned_text = re.sub(r\"#[a-zA-Z0-9\\s]+\", \"\", cleaned_text) # remove #whateverhashtag\n",
    "  cleaned_text = ' '.join(word for word in cleaned_text.split() if word not in stop_words) # remove all stop words\n",
    "  cleaned_text = ''.join(filter(lambda x: x.isalpha() or x.isdigit() or x.isspace(), cleaned_text)) # remove all punctuation\n",
    "\n",
    "  return cleaned_text"
   ]
  },
  {
   "cell_type": "code",
   "execution_count": null,
   "metadata": {
    "id": "DL0wje3QaD5f"
   },
   "outputs": [],
   "source": [
    "# construct array of dates to get one after the other    \n",
    "dates_to_scrape = []\n",
    "for day in range(24, 25): # specify range of days to scrape\n",
    "    one_date = datetime.date(2023, 1, day) # specify month to scrape\n",
    "    dates_to_scrape.append(one_date)"
   ]
  },
  {
   "cell_type": "code",
   "execution_count": null,
   "metadata": {
    "colab": {
     "base_uri": "https://localhost:8080/"
    },
    "executionInfo": {
     "elapsed": 8,
     "status": "ok",
     "timestamp": 1683467189350,
     "user": {
      "displayName": "nathan fenoglio",
      "userId": "13879668938846553689"
     },
     "user_tz": 300
    },
    "id": "GjWg8f-4aD5g",
    "outputId": "4e8e770a-dbfc-4079-be88-4ab515b5323b"
   },
   "outputs": [
    {
     "name": "stdout",
     "output_type": "stream",
     "text": [
      "[datetime.date(2023, 1, 24)]\n"
     ]
    }
   ],
   "source": [
    "print(dates_to_scrape)"
   ]
  },
  {
   "cell_type": "code",
   "execution_count": null,
   "metadata": {
    "colab": {
     "base_uri": "https://localhost:8080/"
    },
    "executionInfo": {
     "elapsed": 7,
     "status": "ok",
     "timestamp": 1683467189350,
     "user": {
      "displayName": "nathan fenoglio",
      "userId": "13879668938846553689"
     },
     "user_tz": 300
    },
    "id": "P3UDHlUGaD5g",
    "outputId": "7524e642-bfd6-4c3f-e8e4-bc10081768f3"
   },
   "outputs": [
    {
     "name": "stdout",
     "output_type": "stream",
     "text": [
      "['i', 'me', 'my', 'myself', 'we', 'our', 'ours', 'ourselves', 'you', \"you're\", \"you've\", \"you'll\", \"you'd\", 'your', 'yours', 'yourself', 'yourselves', 'he', 'him', 'his', 'himself', 'she', \"she's\", 'her', 'hers', 'herself', 'it', \"it's\", 'its', 'itself', 'they', 'them', 'their', 'theirs', 'themselves', 'what', 'which', 'who', 'whom', 'this', 'that', \"that'll\", 'these', 'those', 'am', 'is', 'are', 'was', 'were', 'be', 'been', 'being', 'have', 'has', 'had', 'having', 'do', 'does', 'did', 'doing', 'a', 'an', 'the', 'and', 'but', 'if', 'or', 'because', 'as', 'until', 'while', 'of', 'at', 'by', 'for', 'with', 'about', 'against', 'between', 'into', 'through', 'during', 'before', 'after', 'above', 'below', 'to', 'from', 'up', 'down', 'in', 'out', 'on', 'off', 'over', 'under', 'again', 'further', 'then', 'once', 'here', 'there', 'when', 'where', 'why', 'how', 'all', 'any', 'both', 'each', 'few', 'more', 'most', 'other', 'some', 'such', 'no', 'nor', 'not', 'only', 'own', 'same', 'so', 'than', 'too', 'very', 's', 't', 'can', 'will', 'just', 'don', \"don't\", 'should', \"should've\", 'now', 'd', 'll', 'm', 'o', 're', 've', 'y', 'ain', 'aren', \"aren't\", 'couldn', \"couldn't\", 'didn', \"didn't\", 'doesn', \"doesn't\", 'hadn', \"hadn't\", 'hasn', \"hasn't\", 'haven', \"haven't\", 'isn', \"isn't\", 'ma', 'mightn', \"mightn't\", 'mustn', \"mustn't\", 'needn', \"needn't\", 'shan', \"shan't\", 'shouldn', \"shouldn't\", 'wasn', \"wasn't\", 'weren', \"weren't\", 'won', \"won't\", 'wouldn', \"wouldn't\"]\n"
     ]
    }
   ],
   "source": [
    "# get all stop words into variable (only getting english stop words)\n",
    "stop_words = stopwords.words('english')\n",
    "print(stop_words)"
   ]
  },
  {
   "cell_type": "code",
   "execution_count": null,
   "metadata": {
    "id": "V9HBgFzaaD5h"
   },
   "outputs": [],
   "source": [
    "# function to scrape one day, clean each tweet, and write to csv file\n",
    "def scrape_one_day_bitcoin_tweets(date):\n",
    "    # set search query and date range\n",
    "    search_query = \"bitcoin\"\n",
    "\n",
    "    # start and end time range for one day to scrape\n",
    "    since_date = date\n",
    "    until_date = date + datetime.timedelta(days=1)\n",
    "    \n",
    "    print(f\"date: {date}, since_date: {since_date}, until_date: {until_date}\")\n",
    "    \n",
    "    # make sntwitter library call to scrape one day's worth of tweets filtered by hashtag of the search_query bitcoin\n",
    "    bitcoin_scraper_just_1_day = sntwitter.TwitterHashtagScraper(f\"{search_query} since:{since_date} until:{until_date}\")\n",
    "\n",
    "    tweets = [] # array to save all tweets in\n",
    "    for i, tweet in enumerate(bitcoin_scraper_just_1_day.get_items()):\n",
    "      # specifying the fields that you want to save: date, id, content, username, like count, retweet count\n",
    "      data = [tweet.date, tweet.id, tweet.content, tweet.user.username, tweet.likeCount, tweet.retweetCount] \n",
    "      if i < 10000000: # just setting a really high max # of tweets in case for some reason it just keeps fetching data (never did btw)\n",
    "        tweets.append(data)\n",
    "      else:\n",
    "        break\n",
    "    print(len(tweets))\n",
    "    \n",
    "    # put tweets into dataframe, assign column names \n",
    "    bitcoin_scraper_just_1_day = pd.DataFrame(tweets, columns=['datetime', 'id', 'content', 'username', 'num_likes', 'num_retweets'])\n",
    "    bitcoin_scraper_just_1_day.head()\n",
    "    \n",
    "    # get all stop words into variable\n",
    "    stop_words = stopwords.words('english') # only got english stop words\n",
    "    print(stop_words)\n",
    "    \n",
    "    # clean each tweet remove urls, all non-ascii characters, user mentions @user, hashtags, english stop words, punctuation\n",
    "    bitcoin_scraper_just_1_day['content'] = bitcoin_scraper_just_1_day['content'].apply(clean_tweet)\n",
    "    bitcoin_scraper_just_1_day.head()\n",
    "\n",
    "    # creating file name to save the day's worth of tweets to    \n",
    "    filename = \"bitcoin_just_\" + date.strftime(\"%m\"+\".\"+\"%d\"+\".\"+\"%Y\") + \".csv\"\n",
    "    bitcoin_scraper_just_1_day.to_csv(filename)    "
   ]
  },
  {
   "cell_type": "code",
   "execution_count": null,
   "metadata": {
    "colab": {
     "base_uri": "https://localhost:8080/",
     "height": 548
    },
    "executionInfo": {
     "elapsed": 9672,
     "status": "error",
     "timestamp": 1683467199016,
     "user": {
      "displayName": "nathan fenoglio",
      "userId": "13879668938846553689"
     },
     "user_tz": 300
    },
    "id": "EzTQ2e5JaD5h",
    "outputId": "d2f67867-3f3c-4418-f45d-b740fa37905b"
   },
   "outputs": [
    {
     "name": "stdout",
     "output_type": "stream",
     "text": [
      "date: 2023-01-24, since_date: 2023-01-24, until_date: 2023-01-25\n"
     ]
    },
    {
     "name": "stderr",
     "output_type": "stream",
     "text": [
      "ERROR:snscrape.base:Error retrieving https://api.twitter.com/2/search/adaptive.json?include_profile_interstitial_type=1&include_blocking=1&include_blocked_by=1&include_followed_by=1&include_want_retweets=1&include_mute_edge=1&include_can_dm=1&include_can_media_tag=1&include_ext_has_nft_avatar=1&include_ext_is_blue_verified=1&include_ext_verified_type=1&skip_status=1&cards_platform=Web-12&include_cards=1&include_ext_alt_text=true&include_ext_limited_action_results=false&include_quote_count=true&include_reply_count=1&tweet_mode=extended&include_ext_collab_control=true&include_ext_views=true&include_entities=true&include_user_entities=true&include_ext_media_color=true&include_ext_media_availability=true&include_ext_sensitive_media_warning=true&include_ext_trusted_friends_metadata=true&send_error_codes=true&simple_quoted_tweet=true&q=%23bitcoin+since%3A2023-01-24+until%3A2023-01-25&tweet_search_mode=live&count=20&query_source=spelling_expansion_revert_click&pc=1&spelling_corrections=1&include_ext_edit_control=true&ext=mediaStats%2ChighlightedLabel%2ChasNftAvatar%2CvoiceInfo%2Cenrichments%2CsuperFollowMetadata%2CunmentionInfo%2CeditControl%2Ccollab_control%2Cvibe: blocked (403)\n",
      "CRITICAL:snscrape.base:4 requests to https://api.twitter.com/2/search/adaptive.json?include_profile_interstitial_type=1&include_blocking=1&include_blocked_by=1&include_followed_by=1&include_want_retweets=1&include_mute_edge=1&include_can_dm=1&include_can_media_tag=1&include_ext_has_nft_avatar=1&include_ext_is_blue_verified=1&include_ext_verified_type=1&skip_status=1&cards_platform=Web-12&include_cards=1&include_ext_alt_text=true&include_ext_limited_action_results=false&include_quote_count=true&include_reply_count=1&tweet_mode=extended&include_ext_collab_control=true&include_ext_views=true&include_entities=true&include_user_entities=true&include_ext_media_color=true&include_ext_media_availability=true&include_ext_sensitive_media_warning=true&include_ext_trusted_friends_metadata=true&send_error_codes=true&simple_quoted_tweet=true&q=%23bitcoin+since%3A2023-01-24+until%3A2023-01-25&tweet_search_mode=live&count=20&query_source=spelling_expansion_revert_click&pc=1&spelling_corrections=1&include_ext_edit_control=true&ext=mediaStats%2ChighlightedLabel%2ChasNftAvatar%2CvoiceInfo%2Cenrichments%2CsuperFollowMetadata%2CunmentionInfo%2CeditControl%2Ccollab_control%2Cvibe failed, giving up.\n",
      "CRITICAL:snscrape.base:Errors: blocked (403), blocked (403), blocked (403), blocked (403)\n"
     ]
    },
    {
     "ename": "ScraperException",
     "evalue": "ignored",
     "output_type": "error",
     "traceback": [
      "\u001b[0;31m---------------------------------------------------------------------------\u001b[0m",
      "\u001b[0;31mScraperException\u001b[0m                          Traceback (most recent call last)",
      "\u001b[0;32m<ipython-input-11-09aa0a18cd09>\u001b[0m in \u001b[0;36m<cell line: 2>\u001b[0;34m()\u001b[0m\n\u001b[1;32m      1\u001b[0m \u001b[0;31m# scrape all of the dates specified in the dates_to_scrape array\u001b[0m\u001b[0;34m\u001b[0m\u001b[0;34m\u001b[0m\u001b[0m\n\u001b[1;32m      2\u001b[0m \u001b[0;32mfor\u001b[0m \u001b[0mdate\u001b[0m \u001b[0;32min\u001b[0m \u001b[0mdates_to_scrape\u001b[0m\u001b[0;34m:\u001b[0m\u001b[0;34m\u001b[0m\u001b[0;34m\u001b[0m\u001b[0m\n\u001b[0;32m----> 3\u001b[0;31m     \u001b[0mscrape_one_day_bitcoin_tweets\u001b[0m\u001b[0;34m(\u001b[0m\u001b[0mdate\u001b[0m\u001b[0;34m)\u001b[0m\u001b[0;34m\u001b[0m\u001b[0;34m\u001b[0m\u001b[0m\n\u001b[0m",
      "\u001b[0;32m<ipython-input-10-acd18c46bc29>\u001b[0m in \u001b[0;36mscrape_one_day_bitcoin_tweets\u001b[0;34m(date)\u001b[0m\n\u001b[1;32m     15\u001b[0m \u001b[0;34m\u001b[0m\u001b[0m\n\u001b[1;32m     16\u001b[0m     \u001b[0mtweets\u001b[0m \u001b[0;34m=\u001b[0m \u001b[0;34m[\u001b[0m\u001b[0;34m]\u001b[0m \u001b[0;31m# array to save all tweets in\u001b[0m\u001b[0;34m\u001b[0m\u001b[0;34m\u001b[0m\u001b[0m\n\u001b[0;32m---> 17\u001b[0;31m     \u001b[0;32mfor\u001b[0m \u001b[0mi\u001b[0m\u001b[0;34m,\u001b[0m \u001b[0mtweet\u001b[0m \u001b[0;32min\u001b[0m \u001b[0menumerate\u001b[0m\u001b[0;34m(\u001b[0m\u001b[0mbitcoin_scraper_just_1_day\u001b[0m\u001b[0;34m.\u001b[0m\u001b[0mget_items\u001b[0m\u001b[0;34m(\u001b[0m\u001b[0;34m)\u001b[0m\u001b[0;34m)\u001b[0m\u001b[0;34m:\u001b[0m\u001b[0;34m\u001b[0m\u001b[0;34m\u001b[0m\u001b[0m\n\u001b[0m\u001b[1;32m     18\u001b[0m       \u001b[0;31m# specifying the fields that you want to save: date, id, content, username, like count, retweet count\u001b[0m\u001b[0;34m\u001b[0m\u001b[0;34m\u001b[0m\u001b[0m\n\u001b[1;32m     19\u001b[0m       \u001b[0mdata\u001b[0m \u001b[0;34m=\u001b[0m \u001b[0;34m[\u001b[0m\u001b[0mtweet\u001b[0m\u001b[0;34m.\u001b[0m\u001b[0mdate\u001b[0m\u001b[0;34m,\u001b[0m \u001b[0mtweet\u001b[0m\u001b[0;34m.\u001b[0m\u001b[0mid\u001b[0m\u001b[0;34m,\u001b[0m \u001b[0mtweet\u001b[0m\u001b[0;34m.\u001b[0m\u001b[0mcontent\u001b[0m\u001b[0;34m,\u001b[0m \u001b[0mtweet\u001b[0m\u001b[0;34m.\u001b[0m\u001b[0muser\u001b[0m\u001b[0;34m.\u001b[0m\u001b[0musername\u001b[0m\u001b[0;34m,\u001b[0m \u001b[0mtweet\u001b[0m\u001b[0;34m.\u001b[0m\u001b[0mlikeCount\u001b[0m\u001b[0;34m,\u001b[0m \u001b[0mtweet\u001b[0m\u001b[0;34m.\u001b[0m\u001b[0mretweetCount\u001b[0m\u001b[0;34m]\u001b[0m\u001b[0;34m\u001b[0m\u001b[0;34m\u001b[0m\u001b[0m\n",
      "\u001b[0;32m/usr/local/lib/python3.10/dist-packages/snscrape/modules/twitter.py\u001b[0m in \u001b[0;36mget_items\u001b[0;34m(self)\u001b[0m\n\u001b[1;32m   1659\u001b[0m                 \u001b[0;32mdel\u001b[0m \u001b[0mparams\u001b[0m\u001b[0;34m[\u001b[0m\u001b[0;34m'cursor'\u001b[0m\u001b[0;34m]\u001b[0m\u001b[0;34m\u001b[0m\u001b[0;34m\u001b[0m\u001b[0m\n\u001b[1;32m   1660\u001b[0m \u001b[0;34m\u001b[0m\u001b[0m\n\u001b[0;32m-> 1661\u001b[0;31m                 \u001b[0;32mfor\u001b[0m \u001b[0mobj\u001b[0m \u001b[0;32min\u001b[0m \u001b[0mself\u001b[0m\u001b[0;34m.\u001b[0m\u001b[0m_iter_api_data\u001b[0m\u001b[0;34m(\u001b[0m\u001b[0;34m'https://api.twitter.com/2/search/adaptive.json'\u001b[0m\u001b[0;34m,\u001b[0m \u001b[0m_TwitterAPIType\u001b[0m\u001b[0;34m.\u001b[0m\u001b[0mV2\u001b[0m\u001b[0;34m,\u001b[0m \u001b[0mparams\u001b[0m\u001b[0;34m,\u001b[0m \u001b[0mpaginationParams\u001b[0m\u001b[0;34m,\u001b[0m \u001b[0mcursor\u001b[0m \u001b[0;34m=\u001b[0m \u001b[0mself\u001b[0m\u001b[0;34m.\u001b[0m\u001b[0m_cursor\u001b[0m\u001b[0;34m)\u001b[0m\u001b[0;34m:\u001b[0m\u001b[0;34m\u001b[0m\u001b[0;34m\u001b[0m\u001b[0m\n\u001b[0m\u001b[1;32m   1662\u001b[0m                         \u001b[0;32myield\u001b[0m \u001b[0;32mfrom\u001b[0m \u001b[0mself\u001b[0m\u001b[0;34m.\u001b[0m\u001b[0m_v2_timeline_instructions_to_tweets_or_users\u001b[0m\u001b[0;34m(\u001b[0m\u001b[0mobj\u001b[0m\u001b[0;34m)\u001b[0m\u001b[0;34m\u001b[0m\u001b[0;34m\u001b[0m\u001b[0m\n\u001b[1;32m   1663\u001b[0m \u001b[0;34m\u001b[0m\u001b[0m\n",
      "\u001b[0;32m/usr/local/lib/python3.10/dist-packages/snscrape/modules/twitter.py\u001b[0m in \u001b[0;36m_iter_api_data\u001b[0;34m(self, endpoint, apiType, params, paginationParams, cursor, direction)\u001b[0m\n\u001b[1;32m    759\u001b[0m                 \u001b[0;32mwhile\u001b[0m \u001b[0;32mTrue\u001b[0m\u001b[0;34m:\u001b[0m\u001b[0;34m\u001b[0m\u001b[0;34m\u001b[0m\u001b[0m\n\u001b[1;32m    760\u001b[0m                         \u001b[0m_logger\u001b[0m\u001b[0;34m.\u001b[0m\u001b[0minfo\u001b[0m\u001b[0;34m(\u001b[0m\u001b[0;34mf'Retrieving scroll page {cursor}'\u001b[0m\u001b[0;34m)\u001b[0m\u001b[0;34m\u001b[0m\u001b[0;34m\u001b[0m\u001b[0m\n\u001b[0;32m--> 761\u001b[0;31m                         \u001b[0mobj\u001b[0m \u001b[0;34m=\u001b[0m \u001b[0mself\u001b[0m\u001b[0;34m.\u001b[0m\u001b[0m_get_api_data\u001b[0m\u001b[0;34m(\u001b[0m\u001b[0mendpoint\u001b[0m\u001b[0;34m,\u001b[0m \u001b[0mapiType\u001b[0m\u001b[0;34m,\u001b[0m \u001b[0mreqParams\u001b[0m\u001b[0;34m)\u001b[0m\u001b[0;34m\u001b[0m\u001b[0;34m\u001b[0m\u001b[0m\n\u001b[0m\u001b[1;32m    762\u001b[0m                         \u001b[0;32myield\u001b[0m \u001b[0mobj\u001b[0m\u001b[0;34m\u001b[0m\u001b[0;34m\u001b[0m\u001b[0m\n\u001b[1;32m    763\u001b[0m \u001b[0;34m\u001b[0m\u001b[0m\n",
      "\u001b[0;32m/usr/local/lib/python3.10/dist-packages/snscrape/modules/twitter.py\u001b[0m in \u001b[0;36m_get_api_data\u001b[0;34m(self, endpoint, apiType, params)\u001b[0m\n\u001b[1;32m    725\u001b[0m                 \u001b[0;32mif\u001b[0m \u001b[0mapiType\u001b[0m \u001b[0;32mis\u001b[0m \u001b[0m_TwitterAPIType\u001b[0m\u001b[0;34m.\u001b[0m\u001b[0mGRAPHQL\u001b[0m\u001b[0;34m:\u001b[0m\u001b[0;34m\u001b[0m\u001b[0;34m\u001b[0m\u001b[0m\n\u001b[1;32m    726\u001b[0m                         \u001b[0mparams\u001b[0m \u001b[0;34m=\u001b[0m \u001b[0murllib\u001b[0m\u001b[0;34m.\u001b[0m\u001b[0mparse\u001b[0m\u001b[0;34m.\u001b[0m\u001b[0murlencode\u001b[0m\u001b[0;34m(\u001b[0m\u001b[0;34m{\u001b[0m\u001b[0mk\u001b[0m\u001b[0;34m:\u001b[0m \u001b[0mjson\u001b[0m\u001b[0;34m.\u001b[0m\u001b[0mdumps\u001b[0m\u001b[0;34m(\u001b[0m\u001b[0mv\u001b[0m\u001b[0;34m,\u001b[0m \u001b[0mseparators\u001b[0m \u001b[0;34m=\u001b[0m \u001b[0;34m(\u001b[0m\u001b[0;34m','\u001b[0m\u001b[0;34m,\u001b[0m \u001b[0;34m':'\u001b[0m\u001b[0;34m)\u001b[0m\u001b[0;34m)\u001b[0m \u001b[0;32mfor\u001b[0m \u001b[0mk\u001b[0m\u001b[0;34m,\u001b[0m \u001b[0mv\u001b[0m \u001b[0;32min\u001b[0m \u001b[0mparams\u001b[0m\u001b[0;34m.\u001b[0m\u001b[0mitems\u001b[0m\u001b[0;34m(\u001b[0m\u001b[0;34m)\u001b[0m\u001b[0;34m}\u001b[0m\u001b[0;34m,\u001b[0m \u001b[0mquote_via\u001b[0m \u001b[0;34m=\u001b[0m \u001b[0murllib\u001b[0m\u001b[0;34m.\u001b[0m\u001b[0mparse\u001b[0m\u001b[0;34m.\u001b[0m\u001b[0mquote\u001b[0m\u001b[0;34m)\u001b[0m\u001b[0;34m\u001b[0m\u001b[0;34m\u001b[0m\u001b[0m\n\u001b[0;32m--> 727\u001b[0;31m                 \u001b[0mr\u001b[0m \u001b[0;34m=\u001b[0m \u001b[0mself\u001b[0m\u001b[0;34m.\u001b[0m\u001b[0m_get\u001b[0m\u001b[0;34m(\u001b[0m\u001b[0mendpoint\u001b[0m\u001b[0;34m,\u001b[0m \u001b[0mparams\u001b[0m \u001b[0;34m=\u001b[0m \u001b[0mparams\u001b[0m\u001b[0;34m,\u001b[0m \u001b[0mheaders\u001b[0m \u001b[0;34m=\u001b[0m \u001b[0mself\u001b[0m\u001b[0;34m.\u001b[0m\u001b[0m_apiHeaders\u001b[0m\u001b[0;34m,\u001b[0m \u001b[0mresponseOkCallback\u001b[0m \u001b[0;34m=\u001b[0m \u001b[0mself\u001b[0m\u001b[0;34m.\u001b[0m\u001b[0m_check_api_response\u001b[0m\u001b[0;34m)\u001b[0m\u001b[0;34m\u001b[0m\u001b[0;34m\u001b[0m\u001b[0m\n\u001b[0m\u001b[1;32m    728\u001b[0m                 \u001b[0;32mtry\u001b[0m\u001b[0;34m:\u001b[0m\u001b[0;34m\u001b[0m\u001b[0;34m\u001b[0m\u001b[0m\n\u001b[1;32m    729\u001b[0m                         \u001b[0mobj\u001b[0m \u001b[0;34m=\u001b[0m \u001b[0mr\u001b[0m\u001b[0;34m.\u001b[0m\u001b[0mjson\u001b[0m\u001b[0;34m(\u001b[0m\u001b[0;34m)\u001b[0m\u001b[0;34m\u001b[0m\u001b[0;34m\u001b[0m\u001b[0m\n",
      "\u001b[0;32m/usr/local/lib/python3.10/dist-packages/snscrape/base.py\u001b[0m in \u001b[0;36m_get\u001b[0;34m(self, *args, **kwargs)\u001b[0m\n\u001b[1;32m    249\u001b[0m \u001b[0;34m\u001b[0m\u001b[0m\n\u001b[1;32m    250\u001b[0m         \u001b[0;32mdef\u001b[0m \u001b[0m_get\u001b[0m\u001b[0;34m(\u001b[0m\u001b[0mself\u001b[0m\u001b[0;34m,\u001b[0m \u001b[0;34m*\u001b[0m\u001b[0margs\u001b[0m\u001b[0;34m,\u001b[0m \u001b[0;34m**\u001b[0m\u001b[0mkwargs\u001b[0m\u001b[0;34m)\u001b[0m\u001b[0;34m:\u001b[0m\u001b[0;34m\u001b[0m\u001b[0;34m\u001b[0m\u001b[0m\n\u001b[0;32m--> 251\u001b[0;31m                 \u001b[0;32mreturn\u001b[0m \u001b[0mself\u001b[0m\u001b[0;34m.\u001b[0m\u001b[0m_request\u001b[0m\u001b[0;34m(\u001b[0m\u001b[0;34m'GET'\u001b[0m\u001b[0;34m,\u001b[0m \u001b[0;34m*\u001b[0m\u001b[0margs\u001b[0m\u001b[0;34m,\u001b[0m \u001b[0;34m**\u001b[0m\u001b[0mkwargs\u001b[0m\u001b[0;34m)\u001b[0m\u001b[0;34m\u001b[0m\u001b[0;34m\u001b[0m\u001b[0m\n\u001b[0m\u001b[1;32m    252\u001b[0m \u001b[0;34m\u001b[0m\u001b[0m\n\u001b[1;32m    253\u001b[0m         \u001b[0;32mdef\u001b[0m \u001b[0m_post\u001b[0m\u001b[0;34m(\u001b[0m\u001b[0mself\u001b[0m\u001b[0;34m,\u001b[0m \u001b[0;34m*\u001b[0m\u001b[0margs\u001b[0m\u001b[0;34m,\u001b[0m \u001b[0;34m**\u001b[0m\u001b[0mkwargs\u001b[0m\u001b[0;34m)\u001b[0m\u001b[0;34m:\u001b[0m\u001b[0;34m\u001b[0m\u001b[0;34m\u001b[0m\u001b[0m\n",
      "\u001b[0;32m/usr/local/lib/python3.10/dist-packages/snscrape/base.py\u001b[0m in \u001b[0;36m_request\u001b[0;34m(self, method, url, params, data, headers, timeout, responseOkCallback, allowRedirects, proxies)\u001b[0m\n\u001b[1;32m    245\u001b[0m                         \u001b[0m_logger\u001b[0m\u001b[0;34m.\u001b[0m\u001b[0mfatal\u001b[0m\u001b[0;34m(\u001b[0m\u001b[0mmsg\u001b[0m\u001b[0;34m)\u001b[0m\u001b[0;34m\u001b[0m\u001b[0;34m\u001b[0m\u001b[0m\n\u001b[1;32m    246\u001b[0m                         \u001b[0m_logger\u001b[0m\u001b[0;34m.\u001b[0m\u001b[0mfatal\u001b[0m\u001b[0;34m(\u001b[0m\u001b[0;34mf'Errors: {\", \".join(errors)}'\u001b[0m\u001b[0;34m)\u001b[0m\u001b[0;34m\u001b[0m\u001b[0;34m\u001b[0m\u001b[0m\n\u001b[0;32m--> 247\u001b[0;31m                         \u001b[0;32mraise\u001b[0m \u001b[0mScraperException\u001b[0m\u001b[0;34m(\u001b[0m\u001b[0mmsg\u001b[0m\u001b[0;34m)\u001b[0m\u001b[0;34m\u001b[0m\u001b[0;34m\u001b[0m\u001b[0m\n\u001b[0m\u001b[1;32m    248\u001b[0m                 \u001b[0;32mraise\u001b[0m \u001b[0mRuntimeError\u001b[0m\u001b[0;34m(\u001b[0m\u001b[0;34m'Reached unreachable code'\u001b[0m\u001b[0;34m)\u001b[0m\u001b[0;34m\u001b[0m\u001b[0;34m\u001b[0m\u001b[0m\n\u001b[1;32m    249\u001b[0m \u001b[0;34m\u001b[0m\u001b[0m\n",
      "\u001b[0;31mScraperException\u001b[0m: 4 requests to https://api.twitter.com/2/search/adaptive.json?include_profile_interstitial_type=1&include_blocking=1&include_blocked_by=1&include_followed_by=1&include_want_retweets=1&include_mute_edge=1&include_can_dm=1&include_can_media_tag=1&include_ext_has_nft_avatar=1&include_ext_is_blue_verified=1&include_ext_verified_type=1&skip_status=1&cards_platform=Web-12&include_cards=1&include_ext_alt_text=true&include_ext_limited_action_results=false&include_quote_count=true&include_reply_count=1&tweet_mode=extended&include_ext_collab_control=true&include_ext_views=true&include_entities=true&include_user_entities=true&include_ext_media_color=true&include_ext_media_availability=true&include_ext_sensitive_media_warning=true&include_ext_trusted_friends_metadata=true&send_error_codes=true&simple_quoted_tweet=true&q=%23bitcoin+since%3A2023-01-24+until%3A2023-01-25&tweet_search_mode=live&count=20&query_source=spelling_expansion_revert_click&pc=1&spelling_corrections=1&include_ext_edit_control=true&ext=mediaStats%2ChighlightedLabel%2ChasNftAvatar%2CvoiceInfo%2Cenrichments%2CsuperFollowMetadata%2CunmentionInfo%2CeditControl%2Ccollab_control%2Cvibe failed, giving up."
     ]
    }
   ],
   "source": [
    "# scrape all of the dates specified in the dates_to_scrape array\n",
    "for date in dates_to_scrape:\n",
    "    scrape_one_day_bitcoin_tweets(date)"
   ]
  }
 ],
 "metadata": {
  "colab": {
   "provenance": []
  },
  "kernelspec": {
   "display_name": "Python 3 (ipykernel)",
   "language": "python",
   "name": "python3"
  },
  "language_info": {
   "codemirror_mode": {
    "name": "ipython",
    "version": 3
   },
   "file_extension": ".py",
   "mimetype": "text/x-python",
   "name": "python",
   "nbconvert_exporter": "python",
   "pygments_lexer": "ipython3",
   "version": "3.9.12"
  }
 },
 "nbformat": 4,
 "nbformat_minor": 1
}
